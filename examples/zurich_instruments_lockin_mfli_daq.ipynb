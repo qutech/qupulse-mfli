{
 "cells": [
  {
   "cell_type": "markdown",
   "id": "6b0bdb5f",
   "metadata": {},
   "source": [
    "# Zurich Instruments Lock-In MFLI Data Acquisition"
   ]
  },
  {
   "cell_type": "markdown",
   "id": "d11c4c6c",
   "metadata": {},
   "source": [
    "This notebook was used to develop the qupulse MFLI driver and is now intended as a documentation with examples.\n",
    "\n",
    "\n",
    "To run this notebook, a MFLI is needed. **Further, the aux output with the printed label ```Aux Output 1``` has to be connected to the trigger input with the printed label ``` Trigger In 1```.**\n"
   ]
  },
  {
   "cell_type": "code",
   "execution_count": 1,
   "id": "37894582",
   "metadata": {},
   "outputs": [],
   "source": [
    "# this function let's jupyter/ipython reload changes made in the source code automatically.\n",
    "%load_ext autoreload\n",
    "%autoreload 2"
   ]
  },
  {
   "cell_type": "code",
   "execution_count": 2,
   "id": "debe96ac",
   "metadata": {},
   "outputs": [],
   "source": [
    "import numpy as np"
   ]
  },
  {
   "cell_type": "code",
   "execution_count": 3,
   "id": "c0050171",
   "metadata": {},
   "outputs": [],
   "source": [
    "import time"
   ]
  },
  {
   "cell_type": "code",
   "execution_count": 4,
   "id": "f8975a27",
   "metadata": {},
   "outputs": [],
   "source": [
    "import matplotlib.pyplot as plt"
   ]
  },
  {
   "cell_type": "code",
   "execution_count": 5,
   "id": "76ba4dc7",
   "metadata": {},
   "outputs": [
    {
     "name": "stderr",
     "output_type": "stream",
     "text": [
      "\\\\Janeway\\User AG Bluhm\\Surrey\\git\\qupulse\\qupulse\\utils\\types.py:36: UserWarning: gmpy2 not found. Using fractions.Fraction as fallback. Install gmpy2 for better performance.time_from_float might produce slightly different results\n",
      "  warnings.warn('gmpy2 not found. Using fractions.Fraction as fallback. Install gmpy2 for better performance.'\n"
     ]
    }
   ],
   "source": [
    "import qupulse"
   ]
  },
  {
   "cell_type": "code",
   "execution_count": 6,
   "id": "65986db0",
   "metadata": {},
   "outputs": [],
   "source": [
    "from qupulse_mfli.mfli import MFLIDAQ, postprocessing_crop_windows, postprocessing_average_within_windows"
   ]
  },
  {
   "cell_type": "code",
   "execution_count": 7,
   "id": "ecebe9ee",
   "metadata": {},
   "outputs": [],
   "source": [
    "import zhinst.ziPython as zi"
   ]
  },
  {
   "cell_type": "markdown",
   "id": "3533aeb5",
   "metadata": {},
   "source": [
    "Please replace ```None``` in the next cell with the serial string of your MFLI. E.g. something in the form of ```\"dev1234\"```."
   ]
  },
  {
   "cell_type": "code",
   "execution_count": 8,
   "id": "b3cd8d8b",
   "metadata": {},
   "outputs": [],
   "source": [
    "my_lockins_serial = None # please replace None with the MFLIs serial, e.g. \"dev1234\""
   ]
  },
  {
   "cell_type": "code",
   "execution_count": 9,
   "id": "42af2895",
   "metadata": {
    "scrolled": true
   },
   "outputs": [],
   "source": [
    "assert my_lockins_serial is not None, \"Please save the MFLIs serial string in my_lockins_serial\"\n",
    "my_lockin = MFLIDAQ.connect_to(device_serial=my_lockins_serial)"
   ]
  },
  {
   "cell_type": "markdown",
   "id": "4e5e5266",
   "metadata": {},
   "source": [
    "With ```my_lockin.api_session``` the the zhinst API session for that driver instance is addressed. In the following cell, this is done to set the debug log level to the lowest level, logging everything. Thing will then be logged into the terminal where the jupyter notebook is running and into some file, whose path is stated in the terminal after calling the command. "
   ]
  },
  {
   "cell_type": "code",
   "execution_count": 10,
   "id": "a2599d33",
   "metadata": {},
   "outputs": [],
   "source": [
    "my_lockin.api_session.setDebugLevel(0)"
   ]
  },
  {
   "cell_type": "markdown",
   "id": "be455933",
   "metadata": {},
   "source": [
    "And the sample rate and aux outputs are configured"
   ]
  },
  {
   "cell_type": "code",
   "execution_count": 11,
   "id": "ff14b83d",
   "metadata": {},
   "outputs": [],
   "source": [
    "my_lockin.api_session.setDouble(f'/{my_lockin.serial}/demods/0/rate', 10000)"
   ]
  },
  {
   "cell_type": "code",
   "execution_count": 12,
   "id": "d30a3e29",
   "metadata": {},
   "outputs": [],
   "source": [
    "for i in range(4):\n",
    "    my_lockin.api_session.setInt(f'/{my_lockin.serial}/auxouts/{i}/outputselect', -1)\n",
    "    my_lockin.api_session.setDouble(f\"/{my_lockin.serial}/auxouts/{i}/offset\", 0)"
   ]
  },
  {
   "cell_type": "markdown",
   "id": "41396548",
   "metadata": {},
   "source": [
    "In the following, we will set the default settings of the device. It is recommended to also set all the other important settings here. E.g. the reference oscillator frequency and amplitude."
   ]
  },
  {
   "cell_type": "markdown",
   "id": "6e9a76ba",
   "metadata": {},
   "source": [
    "If the API does not allow for querying a sample rate for a certain gate, then ether the ```assumed_minimal_sample_rate``` is used (if not None) or the first demodulator is activated. This is done to have some sample rate to set the number of samples to record for certain measurement. The measurements define the regions to measure in units of nano seconds."
   ]
  },
  {
   "cell_type": "code",
   "execution_count": 13,
   "id": "016ae5ee",
   "metadata": {},
   "outputs": [],
   "source": [
    "my_lockin.assumed_minimal_sample_rate = 1.\n",
    "my_lockin.assumed_minimal_sample_rate = None"
   ]
  },
  {
   "cell_type": "markdown",
   "id": "3d273882",
   "metadata": {},
   "source": [
    "qupulse allows for defining multiple measurement windows for one measurement. The windows are identified by their name, a string. To set which channels to record in which window, the following dict is created. There the key defines the string for the window and the list for that key defined the paths that are to be measured. Internally the device name is added in front. One can measure multiple channels in one window."
   ]
  },
  {
   "cell_type": "code",
   "execution_count": 14,
   "id": "264cb7fa",
   "metadata": {},
   "outputs": [],
   "source": [
    "my_lockin_channels = {\n",
    "    \"R\": [\"demods/0/sample.R\"],\n",
    "    \"X\": [\"demods/0/sample.X\"],\n",
    "    \"Y\": [\"demods/0/sample.Y\"],\n",
    "    \"A\": [\"auxins/0/sample.AuxIn0.avg\"],\n",
    "    \"many\": [\"demods/0/sample.R\", \"auxins/0/sample.AuxIn0.avg\", \"demods/0/sample.X\", \"demods/0/sample.Y\"]\n",
    "}"
   ]
  },
  {
   "cell_type": "markdown",
   "id": "a12e287d",
   "metadata": {},
   "source": [
    "When registering these windows, one can give a program name under which these windows are saved. If this name is None, then they are used as a default. When then a other program is called which asks for a measurement window which has not been registered with that program name, then the default settings are used for that window."
   ]
  },
  {
   "cell_type": "code",
   "execution_count": 15,
   "id": "bb0ef71a",
   "metadata": {},
   "outputs": [],
   "source": [
    "for k, v in my_lockin_channels.items():\n",
    "    my_lockin.register_measurement_channel(program_name=None, channel_path=v, window_name=k)"
   ]
  },
  {
   "cell_type": "markdown",
   "id": "e684b4f8",
   "metadata": {},
   "source": [
    "Here are the currently saved information for the default program ```my_lockin.default_program```"
   ]
  },
  {
   "cell_type": "code",
   "execution_count": 16,
   "id": "460a60f0",
   "metadata": {},
   "outputs": [
    {
     "data": {
      "text/plain": [
       "MFLIProgram(default_channels=None, channel_mapping={'R': {'demods/0/sample.R'}, 'X': {'demods/0/sample.X'}, 'Y': {'demods/0/sample.Y'}, 'A': {'auxins/0/sample.AuxIn0.avg'}, 'many': {'demods/0/sample.R', 'auxins/0/sample.AuxIn0.avg', 'demods/0/sample.Y', 'demods/0/sample.X'}}, windows=None, trigger_settings=None, other_settings={}, operations=<function postprocessing_crop_windows at 0x0000018F13FCD120>)"
      ]
     },
     "execution_count": 16,
     "metadata": {},
     "output_type": "execute_result"
    }
   ],
   "source": [
    "my_lockin.default_program"
   ]
  },
  {
   "cell_type": "markdown",
   "id": "732bb4a2",
   "metadata": {},
   "source": [
    "Now measurement windows are defined. This is usually done by qupulse when registering a program. But one can also to this by hand.\n",
    "\n",
    "The windows define for which period, after the beginning of the pulse, some data is to be returned. The windows are defined by a tuple of two lists, where the first gives the point after the pulse started of when the measurement should start in ns. The second give the duration of this window in ns. One can specify multiple regions for one window by adding multiple entries into these lists. (Here the naming might not be consistent enough. Occasionally the word *mask* is used.)\n",
    "\n",
    "It is noteworthy that, in the current qupulse implementation, the point in them when a trigger signal is send to the measurement device has the managed by the user and is not checked to be at the correct point in time. So per default this signal is expected to be send out at the beginning of the pulse, and then the measurement equipment will measure the cover all windows (the duration is extracted from the defined windows.). But one can play tricks with that. But one needs to be careful. "
   ]
  },
  {
   "cell_type": "code",
   "execution_count": 17,
   "id": "bc46a01c",
   "metadata": {},
   "outputs": [],
   "source": [
    "my_lockin.register_measurement_windows(program_name=\"test\", windows={\n",
    "        \"A\": (np.array([0, 3])*1, np.array([1, 10])*1), \n",
    "        \"many\": (np.array([0, 2, 4])*1e-3, np.array([1, 4, 6.1])*1e-3)\n",
    "    })"
   ]
  },
  {
   "cell_type": "code",
   "execution_count": 18,
   "id": "f45534ef",
   "metadata": {
    "scrolled": true
   },
   "outputs": [
    {
     "data": {
      "text/plain": [
       "{'test': MFLIProgram(default_channels=None, channel_mapping=None, windows={'A': (array([0, 3]), array([ 1, 10])), 'many': (array([0.   , 0.002, 0.004]), array([0.001 , 0.004 , 0.0061]))}, trigger_settings=None, other_settings={}, operations=<function postprocessing_crop_windows at 0x0000018F13FCD120>)}"
      ]
     },
     "execution_count": 18,
     "metadata": {},
     "output_type": "execute_result"
    }
   ],
   "source": [
    "my_lockin.programs"
   ]
  },
  {
   "cell_type": "markdown",
   "id": "9a22699a",
   "metadata": {},
   "source": [
    "Ok, now that we have registered a program, we can delete it."
   ]
  },
  {
   "cell_type": "code",
   "execution_count": 19,
   "id": "eb3c0a0e",
   "metadata": {},
   "outputs": [],
   "source": [
    "my_lockin.delete_program(program_name=\"test\")"
   ]
  },
  {
   "cell_type": "code",
   "execution_count": 20,
   "id": "60fe5854",
   "metadata": {},
   "outputs": [
    {
     "data": {
      "text/plain": [
       "{}"
      ]
     },
     "execution_count": 20,
     "metadata": {},
     "output_type": "execute_result"
    }
   ],
   "source": [
    "my_lockin.programs"
   ]
  },
  {
   "cell_type": "code",
   "execution_count": 21,
   "id": "50878307",
   "metadata": {},
   "outputs": [
    {
     "data": {
      "text/plain": [
       "MFLIProgram(default_channels=None, channel_mapping={'R': {'demods/0/sample.R'}, 'X': {'demods/0/sample.X'}, 'Y': {'demods/0/sample.Y'}, 'A': {'auxins/0/sample.AuxIn0.avg'}, 'many': {'demods/0/sample.R', 'auxins/0/sample.AuxIn0.avg', 'demods/0/sample.Y', 'demods/0/sample.X'}}, windows=None, trigger_settings=None, other_settings={}, operations=<function postprocessing_crop_windows at 0x0000018F13FCD120>)"
      ]
     },
     "execution_count": 21,
     "metadata": {},
     "output_type": "execute_result"
    }
   ],
   "source": [
    "my_lockin.default_program"
   ]
  },
  {
   "cell_type": "markdown",
   "id": "303053e3",
   "metadata": {},
   "source": [
    "## Defining a simple qupulse pulse with a measurement window."
   ]
  },
  {
   "cell_type": "markdown",
   "id": "a3bc5453",
   "metadata": {},
   "source": [
    "Now we will define a simple pulse.\n",
    "\n",
    "Here only the measurement related stuff is commented. Later things get more interesting again."
   ]
  },
  {
   "cell_type": "code",
   "execution_count": 22,
   "id": "37b55006",
   "metadata": {},
   "outputs": [],
   "source": [
    "from qupulse.pulses.plotting import plot"
   ]
  },
  {
   "cell_type": "code",
   "execution_count": 23,
   "id": "be93574e",
   "metadata": {},
   "outputs": [],
   "source": [
    "red_pulse = qupulse.pulses.TablePT({\"red\": [\n",
    "    (\"0*dt\", 0),\n",
    "    (\"1*dt\", 4, 'hold'),\n",
    "    (\"4*dt\", .5, 'linear'),\n",
    "    (\"5*dt\", 2, 'hold'),\n",
    "    (\"6*dt\", .5, 'hold'),\n",
    "    (\"15*dt\", .5, 'jump'),\n",
    "]})"
   ]
  },
  {
   "cell_type": "code",
   "execution_count": 24,
   "id": "1d42e3fc",
   "metadata": {},
   "outputs": [],
   "source": [
    "green_pulse = qupulse.pulses.SequencePT(*[\n",
    "    qupulse.pulses.FunctionPT(\".1\", \"6*dt\", channel=\"green\"),\n",
    "    qupulse.pulses.FunctionPT(\".1+(t/dt)**2*.9\", \"1*dt\", channel=\"green\"),\n",
    "    qupulse.pulses.FunctionPT(\"1\", \"1*dt\", channel=\"green\"),\n",
    "    qupulse.pulses.FunctionPT(\"1+sin((t/dt)*2*pi)*exp(-((t/dt)-2)**2)\", \"5*dt\", channel=\"green\"),\n",
    "    qupulse.pulses.FunctionPT(\"1\", \"1*dt\", channel=\"green\"),\n",
    "    qupulse.pulses.FunctionPT(\"0\", \"1*dt\", channel=\"green\"),\n",
    "]\n",
    ")"
   ]
  },
  {
   "cell_type": "code",
   "execution_count": 25,
   "id": "d2632242",
   "metadata": {},
   "outputs": [],
   "source": [
    "measured_pt = qupulse.pulses.PointPT([(\"0*dt\", 0), (\"0*dt\", 1), (\"15*dt\", 1), (\"15*dt\", 0)],\n",
    "                      channel_names=(\"trigger_out\",),\n",
    "                      measurements=[('A', \"dt*3\", \"dt*1.5\"), ('A', \"dt*12\", \"dt*3\"), ('R', \"dt*6.5\", \"dt*1.4\"), ('R', \"dt*14\", \"dt*1\"), ('T', \"dt*10\", \"dt*3\")])"
   ]
  },
  {
   "cell_type": "markdown",
   "id": "97c66abd",
   "metadata": {},
   "source": [
    "As one sees in the prior cell, one can also specify measurement windows with variables."
   ]
  },
  {
   "cell_type": "code",
   "execution_count": 26,
   "id": "ea1cdd4c",
   "metadata": {},
   "outputs": [
    {
     "name": "stderr",
     "output_type": "stream",
     "text": [
      "\\\\Janeway\\User AG Bluhm\\Surrey\\git\\qupulse\\qupulse\\pulses\\arithmetic_pulse_template.py:73: ImplicitAtomicityInArithmeticPT: ArithmeticAtomicPulseTemplate treats all operands as if they are atomic. You can silence this warning by passing `silent_atomic=True` or by ignoring this category.\n",
      "  warnings.warn(\"ArithmeticAtomicPulseTemplate treats all operands as if they are atomic. \"\n"
     ]
    }
   ],
   "source": [
    "combined_pulse = red_pulse+green_pulse+measured_pt"
   ]
  },
  {
   "cell_type": "code",
   "execution_count": 27,
   "id": "eb2ea77b",
   "metadata": {},
   "outputs": [
    {
     "name": "stdout",
     "output_type": "stream",
     "text": [
      "{'A', 'T', 'R'}\n",
      "[]\n",
      "set()\n"
     ]
    }
   ],
   "source": [
    "print(combined_pulse.measurement_names)\n",
    "print(combined_pulse.measurement_declarations)\n",
    "print(combined_pulse.measurement_parameters)"
   ]
  },
  {
   "cell_type": "code",
   "execution_count": 28,
   "id": "eeeee0ec",
   "metadata": {},
   "outputs": [
    {
     "name": "stderr",
     "output_type": "stream",
     "text": [
      "C:\\Users\\Surrey\\AppData\\Local\\Temp\\ipykernel_64244\\4247546520.py:1: DeprecationWarning: This is only a hack until https://github.com/qutech/qupulse/issues/578 is resolved. Do not call this method directly\n",
      "  combined_pulse.get_measurement_windows(parameters={\"dt\": 1e8}, measurement_mapping={\"A\":\"A\", \"R\":\"R\", \"T\":\"T\"})\n"
     ]
    },
    {
     "data": {
      "text/plain": [
       "[('A', 300000000.0, 150000000.0),\n",
       " ('A', 1200000000.0, 300000000.0),\n",
       " ('R', 650000000.0, 140000000.0),\n",
       " ('R', 1400000000.0, 100000000.0),\n",
       " ('T', 1000000000.0, 300000000.0)]"
      ]
     },
     "execution_count": 28,
     "metadata": {},
     "output_type": "execute_result"
    }
   ],
   "source": [
    "combined_pulse.get_measurement_windows(parameters={\"dt\": 1e8}, measurement_mapping={\"A\":\"A\", \"R\":\"R\", \"T\":\"T\"})"
   ]
  },
  {
   "cell_type": "code",
   "execution_count": 29,
   "id": "d325087c",
   "metadata": {},
   "outputs": [
    {
     "name": "stderr",
     "output_type": "stream",
     "text": [
      "\\\\Janeway\\User AG Bluhm\\Surrey\\git\\qupulse\\qupulse\\plotting.py:260: UserWarning: FigureCanvasAgg is non-interactive, and thus cannot be shown\n",
      "  axes.get_figure().show()\n"
     ]
    },
    {
     "data": {
      "image/png": "[encoded data removed]",
      "text/plain": [
       "<Figure size 640x480 with 1 Axes>"
      ]
     },
     "metadata": {},
     "output_type": "display_data"
    }
   ],
   "source": [
    "plot(combined_pulse, sample_rate=1e-6, plot_measurements=combined_pulse.measurement_names, parameters={\"dt\": 1e8}) # combined_pulse.measurement_names\n",
    "plt.show()"
   ]
  },
  {
   "cell_type": "code",
   "execution_count": 30,
   "id": "70da8095",
   "metadata": {},
   "outputs": [],
   "source": [
    "idle_pulse = qupulse.pulses.TablePT({\"red\": [\n",
    "    (\"0*dt\", 0),\n",
    "    (\"5*dt\", 0),\n",
    "],\n",
    "                                     \"green\": [\n",
    "    (\"0*dt\", 0),\n",
    "    (\"5*dt\", 0),\n",
    "],\n",
    "                                     \"trigger_out\": [\n",
    "    (\"0*dt\", 0),\n",
    "    (\"5*dt\", 0),\n",
    "]})"
   ]
  },
  {
   "cell_type": "code",
   "execution_count": 31,
   "id": "20626e0f",
   "metadata": {},
   "outputs": [],
   "source": [
    "rep = qupulse.pulses.repetition_pulse_template.RepetitionPulseTemplate(\n",
    "    body=qupulse.pulses.SequencePT(combined_pulse, idle_pulse),\n",
    "    repetition_count=10\n",
    ")"
   ]
  },
  {
   "cell_type": "code",
   "execution_count": 32,
   "id": "62aab374",
   "metadata": {},
   "outputs": [
    {
     "name": "stderr",
     "output_type": "stream",
     "text": [
      "\\\\Janeway\\User AG Bluhm\\Surrey\\git\\qupulse\\qupulse\\plotting.py:260: UserWarning: FigureCanvasAgg is non-interactive, and thus cannot be shown\n",
      "  axes.get_figure().show()\n"
     ]
    },
    {
     "data": {
      "image/png": "[encoded data removed]",
      "text/plain": [
       "<Figure size 640x480 with 1 Axes>"
      ]
     },
     "metadata": {},
     "output_type": "display_data"
    }
   ],
   "source": [
    "plot(rep, sample_rate=1e-6, plot_measurements=combined_pulse.measurement_names, parameters={\"dt\": 1e8})\n",
    "plt.show()"
   ]
  },
  {
   "cell_type": "code",
   "execution_count": 33,
   "id": "d5c5f40f",
   "metadata": {},
   "outputs": [
    {
     "data": {
      "text/plain": [
       "{'A', 'R', 'T'}"
      ]
     },
     "execution_count": 33,
     "metadata": {},
     "output_type": "execute_result"
    }
   ],
   "source": [
    "rep.measurement_names"
   ]
  },
  {
   "cell_type": "code",
   "execution_count": 34,
   "id": "c547473f",
   "metadata": {},
   "outputs": [
    {
     "data": {
      "text/plain": [
       "[]"
      ]
     },
     "execution_count": 34,
     "metadata": {},
     "output_type": "execute_result"
    }
   ],
   "source": [
    "rep.get_measurement_windows(parameters={\"dt\": 1e8}, measurement_mapping={\"A\":\"A\", \"R\":\"R\", \"T\":\"T\"})"
   ]
  },
  {
   "cell_type": "markdown",
   "id": "3bd81101",
   "metadata": {},
   "source": [
    "(When writing this documentation the prior cell did not return the expected measurement windows, but an empty list. When compiling that pulse and registering the program, the correct windows are written into the driver's memory.)"
   ]
  },
  {
   "cell_type": "markdown",
   "id": "b23c7772",
   "metadata": {},
   "source": [
    "For repetitions like this, all windows are defined in relation to the beginning of the total pulse, when one want to trigger that more elegantly, which might be the case if there are long duration in which one might not want to measure, one might need to become a bit creative. One solution would be to only define the first set of measurement windows, then let the trigger trigger the lock-in on every iteration of the pulse's loop, and then when defining the trigger settings later, allow for multiple triggers. Then the driver takes the windows with respect to the corresponding trigger. "
   ]
  },
  {
   "cell_type": "markdown",
   "id": "3d4b0951",
   "metadata": {},
   "source": [
    "## Execution\n",
    "\n",
    "1. map output channels to dummy instrument\n",
    "2. arm scan and see if everything works"
   ]
  },
  {
   "cell_type": "code",
   "execution_count": 35,
   "id": "031fd70e",
   "metadata": {},
   "outputs": [],
   "source": [
    "from qupulse.utils.types import TimeType"
   ]
  },
  {
   "cell_type": "code",
   "execution_count": 36,
   "id": "f0143c3d",
   "metadata": {},
   "outputs": [],
   "source": [
    "from qupulse.hardware.awgs.dummy import DummyAWG"
   ]
  },
  {
   "cell_type": "code",
   "execution_count": 37,
   "id": "843fb93c",
   "metadata": {},
   "outputs": [],
   "source": [
    "from qupulse.hardware.setup import HardwareSetup, MeasurementMask, PlaybackChannel"
   ]
  },
  {
   "cell_type": "markdown",
   "id": "d4514092",
   "metadata": {},
   "source": [
    "As we also have a pulse, that contains some outputs, a virtual awg is used."
   ]
  },
  {
   "cell_type": "code",
   "execution_count": 38,
   "id": "7df89611",
   "metadata": {},
   "outputs": [],
   "source": [
    "my_awg = DummyAWG(\"awg\", num_channels=100)"
   ]
  },
  {
   "cell_type": "markdown",
   "id": "4146568f",
   "metadata": {},
   "source": [
    "The ```HardwareSetup``` is the central qupulse object that contains all devices for this setup. "
   ]
  },
  {
   "cell_type": "code",
   "execution_count": 39,
   "id": "21afd2d6",
   "metadata": {},
   "outputs": [],
   "source": [
    "setup = HardwareSetup()"
   ]
  },
  {
   "cell_type": "markdown",
   "id": "dd09864c",
   "metadata": {},
   "source": [
    "We now register the link between the measurement window names and the drivers measurement window names. Similarly for the playback channels (i.e. outputs). "
   ]
  },
  {
   "cell_type": "code",
   "execution_count": 40,
   "id": "fc22d303",
   "metadata": {},
   "outputs": [
    {
     "data": {
      "text/plain": [
       "{'R': {'demods/0/sample.R'},\n",
       " 'X': {'demods/0/sample.X'},\n",
       " 'Y': {'demods/0/sample.Y'},\n",
       " 'A': {'auxins/0/sample.AuxIn0.avg'},\n",
       " 'many': {'auxins/0/sample.AuxIn0.avg',\n",
       "  'demods/0/sample.R',\n",
       "  'demods/0/sample.X',\n",
       "  'demods/0/sample.Y'}}"
      ]
     },
     "execution_count": 40,
     "metadata": {},
     "output_type": "execute_result"
    }
   ],
   "source": [
    "my_lockin.default_program.channel_mapping"
   ]
  },
  {
   "cell_type": "code",
   "execution_count": 41,
   "id": "2e4e2b0b",
   "metadata": {},
   "outputs": [],
   "source": [
    "for n in my_lockin.default_program.channel_mapping.keys():\n",
    "    setup.set_measurement(f\"{n}\", MeasurementMask(my_lockin, n))"
   ]
  },
  {
   "cell_type": "code",
   "execution_count": 42,
   "id": "05d4304a",
   "metadata": {},
   "outputs": [],
   "source": [
    "for i, c in enumerate([\"red\", \"green\", \"trigger_out\"]):\n",
    "    setup.set_channel(f\"{c}\", PlaybackChannel(my_awg, i))"
   ]
  },
  {
   "cell_type": "markdown",
   "id": "8b1d4e21",
   "metadata": {},
   "source": [
    "Now the pulses are compiled into programs. This contains the measurement mapping and the parameters. When a measurement window is mapped to ```None``` it is omitted."
   ]
  },
  {
   "cell_type": "code",
   "execution_count": 43,
   "id": "6abf0e7f",
   "metadata": {},
   "outputs": [],
   "source": [
    "test_program = combined_pulse.create_program(measurement_mapping={\"A\":\"A\", \"R\":\"R\", \"T\":\"X\"}, parameters={\"dt\": 1e6})"
   ]
  },
  {
   "cell_type": "code",
   "execution_count": 44,
   "id": "b3d52873",
   "metadata": {},
   "outputs": [],
   "source": [
    "test_rep_program = rep.create_program(measurement_mapping={\"A\":\"A\", \"R\":\"R\", \"T\":\"X\"}, parameters={\"dt\": 1e6})"
   ]
  },
  {
   "cell_type": "code",
   "execution_count": 45,
   "id": "e35f0e2f",
   "metadata": {},
   "outputs": [],
   "source": [
    "test_program_single = combined_pulse.create_program(measurement_mapping={\"A\":\"A\", \"R\":\"R\", \"T\":\"X\"}, parameters={\"dt\": 1e6})"
   ]
  },
  {
   "cell_type": "markdown",
   "id": "965a3992",
   "metadata": {},
   "source": [
    "a helper function for plotting the returned data. The measured data can also be returned in a raw format, where the data is not cropped to the measurement windows. For that call ```my_lockin.measure_program(return_raw=True)```."
   ]
  },
  {
   "cell_type": "code",
   "execution_count": 46,
   "id": "7f811d07",
   "metadata": {},
   "outputs": [],
   "source": [
    "def plot_windows(data):\n",
    "    for j, w in enumerate(data.keys()):\n",
    "        for i, c in enumerate(data[w].keys()):\n",
    "            for k, e in enumerate(data[w][c]):\n",
    "                plt.plot(e[\"time\"].values.T, e.values.T, color=f\"C{j}\", label=(w if (i==0 and k==0) else None))\n",
    "                plt.scatter(e[\"time\"].values.T, e.values.T, color=f\"C{j}\", marker=\"x\", alpha=.1)\n",
    "    plt.legend()\n",
    "    plt.show()"
   ]
  },
  {
   "cell_type": "code",
   "execution_count": 47,
   "id": "176c260b",
   "metadata": {},
   "outputs": [],
   "source": [
    "import numpy as np"
   ]
  },
  {
   "cell_type": "markdown",
   "id": "564e8107",
   "metadata": {},
   "source": [
    "Now we will register the trigger settings for the lock-in. They are program specific. \n",
    "Also the devices name is added to the ```trigger_input``` strings. \n",
    "The zurich instruments lock-ins have a funny naming convention, where the AUXIN inputs start at 0 and the TRUGINs at 1.\n",
    "\n",
    "Inside the driver, some input specific things are set regarding if certain strings are present in the ```trigger_input``` path. The parameters in ```other_settings``` are set after all the other trigger specific things and thus can be used to set more things. If the count is set to np.inf, the acquisition will only finish, if ```my_lockin.stop_acquisition()``` is called. The ```measure_program``` can be called such that is waits for the daq to finish the acquisition, or to already read what had been recorded, or to return partial measurements.\n",
    "\n",
    "For further information, see to the doc-string of that function."
   ]
  },
  {
   "cell_type": "code",
   "execution_count": 48,
   "id": "d0c8669f",
   "metadata": {},
   "outputs": [],
   "source": [
    "my_lockin.register_trigger_settings(program_name=\"test\",\n",
    "                                   trigger_input=f\"demods/0/sample.AuxIn1\", # here AuxInN referese to the printer label N+1\n",
    "                                   edge=\"rising\",\n",
    "                                   trigger_count=3, # this defines the number of triggers to capture in one element (i.e. rows)\n",
    "                                   level=.5, # this sets the trigger level\n",
    "                                   measurement_count=np.inf, # this defined the number of rounds that are to be measured (e.g. how often the \"single\" button should be pressed)\n",
    "                                   other_settings={\"holdoff/time\": 1e-3} # this sets the duration for which new triggers are ignored\n",
    "                                   )\n",
    "\n",
    "# this will overwrite the earlier set settings\n",
    "my_lockin.register_trigger_settings(program_name=\"test\",\n",
    "                                   trigger_input=f\"demods/0/sample.TrigIn1\", # here TrigInN referrers to the printer label N\n",
    "                                   edge=\"rising\",\n",
    "                                   trigger_count=3,\n",
    "                                   level=.5,\n",
    "                                   measurement_count=3,\n",
    "                                   other_settings={\"holdoff/time\": 1e-3}\n",
    "                                   )"
   ]
  },
  {
   "cell_type": "markdown",
   "id": "5e6a3516",
   "metadata": {},
   "source": [
    "And now the program is going to be registered. The run_callback is the function call that is called when the ```setup.run_program(program_name_goes_here)``` function is called. If one want to trigger the lock-in via software, one can call ```my_lockin.force_trigger()``` here."
   ]
  },
  {
   "cell_type": "code",
   "execution_count": 49,
   "id": "f069c321",
   "metadata": {
    "scrolled": true
   },
   "outputs": [],
   "source": [
    "# setup.register_program('test', test_program, run_callback=lambda *a, **b: my_lockin.force_trigger(), update=True)\n",
    "setup.register_program('test', test_program, run_callback=lambda *a, **b: None, update=True)"
   ]
  },
  {
   "cell_type": "markdown",
   "id": "4f0600b6",
   "metadata": {},
   "source": [
    "Without registering an operation, the raw recorded data is returned when calling the ```my_lockin.measure_program``` function. One can register operations that are then used to post process the data. As of writing this, the function ```postprocessing_crop_windows``` and ```postprocessing_average_within_windows``` are implemented. The first crops the raw data to the specified measurement windows, the second one averages the whole windows down to floats. ```postprocessing_crop_windows``` is the default."
   ]
  },
  {
   "cell_type": "code",
   "execution_count": 50,
   "id": "6ed9795f",
   "metadata": {},
   "outputs": [],
   "source": [
    "# returning raw data:\n",
    "my_lockin.register_operations(\"test\", None)\n",
    "\n",
    "# back to the default\n",
    "my_lockin.register_operations(\"test\", postprocessing_crop_windows)\n",
    "\n",
    "# or to average (the plotting implemented within this notebook does not work with this operation)\n",
    "# my_lockin.register_operations(\"test\", postprocessing_average_within_windows)"
   ]
  },
  {
   "cell_type": "code",
   "execution_count": 51,
   "id": "b037496c",
   "metadata": {},
   "outputs": [],
   "source": [
    "setup.register_program('test_rep', test_rep_program, run_callback=lambda *a, **b: None, update=True)"
   ]
  },
  {
   "cell_type": "markdown",
   "id": "9c3f8ac9",
   "metadata": {},
   "source": [
    "And after that call, the lock-in is armed and the settings should have been updated. If one does not want the settings to update every time, one can set the ```self.force_update_on_arm``` field to ```False```. Within the update call, the sample rate is queried and the window dimensions are updated. Only later in the read call the information is applied and the data is then cropped (but it is not checked if the selected program is the one corresponding to the retrieved data)."
   ]
  },
  {
   "cell_type": "code",
   "execution_count": 52,
   "id": "d38e253f",
   "metadata": {
    "scrolled": false
   },
   "outputs": [
    {
     "data": {
      "text/plain": [
       "MFLIProgram(default_channels=None, channel_mapping=None, windows={'X': (array([1.0e+07, 3.0e+07, 5.0e+07, 7.0e+07, 9.0e+07, 1.1e+08, 1.3e+08,\n",
       "       1.5e+08, 1.7e+08, 1.9e+08]), array([3000000., 3000000., 3000000., 3000000., 3000000., 3000000.,\n",
       "       3000000., 3000000., 3000000., 3000000.])), 'R': (array([6.500e+06, 1.400e+07, 2.650e+07, 3.400e+07, 4.650e+07, 5.400e+07,\n",
       "       6.650e+07, 7.400e+07, 8.650e+07, 9.400e+07, 1.065e+08, 1.140e+08,\n",
       "       1.265e+08, 1.340e+08, 1.465e+08, 1.540e+08, 1.665e+08, 1.740e+08,\n",
       "       1.865e+08, 1.940e+08]), array([1400000., 1000000., 1400000., 1000000., 1400000., 1000000.,\n",
       "       1400000., 1000000., 1400000., 1000000., 1400000., 1000000.,\n",
       "       1400000., 1000000., 1400000., 1000000., 1400000., 1000000.,\n",
       "       1400000., 1000000.])), 'A': (array([3.00e+06, 1.20e+07, 2.30e+07, 3.20e+07, 4.30e+07, 5.20e+07,\n",
       "       6.30e+07, 7.20e+07, 8.30e+07, 9.20e+07, 1.03e+08, 1.12e+08,\n",
       "       1.23e+08, 1.32e+08, 1.43e+08, 1.52e+08, 1.63e+08, 1.72e+08,\n",
       "       1.83e+08, 1.92e+08]), array([1500000., 3000000., 1500000., 3000000., 1500000., 3000000.,\n",
       "       1500000., 3000000., 1500000., 3000000., 1500000., 3000000.,\n",
       "       1500000., 3000000., 1500000., 3000000., 1500000., 3000000.,\n",
       "       1500000., 3000000.]))}, trigger_settings=None, other_settings={}, operations=<function postprocessing_crop_windows at 0x0000018F13FCD120>)"
      ]
     },
     "execution_count": 52,
     "metadata": {},
     "output_type": "execute_result"
    }
   ],
   "source": [
    "my_lockin.programs[\"test_rep\"]"
   ]
  },
  {
   "cell_type": "markdown",
   "id": "710102b3",
   "metadata": {},
   "source": [
    "As also incomplete data is returned, when the driver asks the lock-in for new data and the lock-in (or the data server) deletes the returned data, some form of memory is needed to peace data from different calls together. This is done in the ```my_lockin.read_memory``` field. If the programs are changed, and as things are not tracked in that regard, one might need to clear that ever so often. This can be done using ```my_lockin.clear_memory()```."
   ]
  },
  {
   "cell_type": "code",
   "execution_count": 53,
   "id": "060a1a4c",
   "metadata": {},
   "outputs": [],
   "source": [
    "my_lockin.read_memory = {}"
   ]
  },
  {
   "cell_type": "markdown",
   "id": "0ecd69a6",
   "metadata": {},
   "source": [
    "And now the program is run:"
   ]
  },
  {
   "cell_type": "code",
   "execution_count": 54,
   "id": "cf3ce29e",
   "metadata": {},
   "outputs": [
    {
     "name": "stderr",
     "output_type": "stream",
     "text": [
      "\\\\janeway\\user ag bluhm\\surrey\\git\\qupulse-mfli\\qupulse_mfli\\mfli.py:523: UserWarning: The channel auxins/0/sample.AuxIn0.avg does not have an interface for enabling it. If needed, this can be done using the web interface.\n",
      "  warnings.warn(\n"
     ]
    }
   ],
   "source": [
    "setup.run_program(\"test\")"
   ]
  },
  {
   "cell_type": "markdown",
   "id": "358f204c",
   "metadata": {},
   "source": [
    "For testing purposes the following two cells contain different ways to trigger things. The first using force_trigger calls. And the second using the auxiliary output, which is connected to the earlier specified trigger input using a coaxial cable."
   ]
  },
  {
   "cell_type": "code",
   "execution_count": 55,
   "id": "1505ae0a",
   "metadata": {},
   "outputs": [],
   "source": [
    "for _ in range(3*3):\n",
    "    my_lockin.force_trigger(None)\n",
    "    time.sleep(2)\n"
   ]
  },
  {
   "cell_type": "code",
   "execution_count": 56,
   "id": "8504fda1",
   "metadata": {},
   "outputs": [],
   "source": [
    "for _ in range(3*3):\n",
    "    my_lockin.api_session.setDouble(f\"/{my_lockin.serial}/auxouts/0/offset\", 1)\n",
    "    time.sleep(1)\n",
    "    my_lockin.api_session.setDouble(f\"/{my_lockin.serial}/auxouts/0/offset\", 0)\n",
    "    time.sleep(3)"
   ]
  },
  {
   "cell_type": "markdown",
   "id": "5ae3314c",
   "metadata": {},
   "source": [
    "The ```stop_acquisition()``` is called to stop the acquisition when the count in the trigger_count configuration is set to np.inf."
   ]
  },
  {
   "cell_type": "code",
   "execution_count": 57,
   "id": "8ab20ee5",
   "metadata": {},
   "outputs": [],
   "source": [
    "my_lockin.stop_acquisition()"
   ]
  },
  {
   "cell_type": "markdown",
   "id": "cf3104cc",
   "metadata": {},
   "source": [
    "And then we read some data back from the device."
   ]
  },
  {
   "cell_type": "code",
   "execution_count": 58,
   "id": "b909871b",
   "metadata": {},
   "outputs": [],
   "source": [
    "data = my_lockin.measure_program(wait=False, return_raw=False)#(wait=False, fail_if_incomplete=False)"
   ]
  },
  {
   "cell_type": "code",
   "execution_count": 59,
   "id": "d81128bc",
   "metadata": {},
   "outputs": [
    {
     "data": {
      "text/plain": [
       "[{'X': {'/dev4121/demods/0/sample.x': [[<xarray.DataArray '/dev4121/demods/0/sample.x' (col: 40)>\n",
       "     array([2.32229806e-07, 2.40161298e-07, 2.45713823e-07, 2.50138519e-07,\n",
       "            2.52503651e-07, 2.52741247e-07, 2.52441695e-07, 2.53384259e-07,\n",
       "            2.55218259e-07, 2.56955415e-07, 2.58760542e-07, 2.60805671e-07,\n",
       "            2.62730499e-07, 2.65030066e-07, 2.71255077e-07, 2.81789296e-07,\n",
       "            2.96337982e-07, 3.15933927e-07, 3.39136516e-07, 3.63394152e-07,\n",
       "            3.88717660e-07, 4.16152464e-07, 4.46180972e-07, 4.77914757e-07,\n",
       "            5.10626594e-07, 5.43713773e-07, 5.77523364e-07, 6.11056260e-07,\n",
       "            6.42889896e-07, 6.72610431e-07, 6.99825083e-07, 7.23816851e-07,\n",
       "            7.45081982e-07, 7.65249961e-07, 7.84356879e-07, 8.02266193e-07,\n",
       "            8.17534886e-07, 8.31823720e-07, 8.44145021e-07, 8.53760134e-07])\n",
       "     Coordinates:\n",
       "         time     (col) float64 1.005e+07 1.013e+07 1.02e+07 ... 1.289e+07 1.296e+07\n",
       "     Dimensions without coordinates: col\n",
       "     Attributes: (12/30)\n",
       "         systemtime:                  [1710526657]\n",
       "         createdtimestamp:            [508287245386]\n",
       "         changedtimestamp:            [508527570506]\n",
       "         flags:                       [1849]\n",
       "         moduleflags:                 [0]\n",
       "         chunksizebytes:              [0]\n",
       "         ...                          ...\n",
       "         nenbw:                       [nan]\n",
       "         systemtime_converted:        [2.85087776e+10]\n",
       "         createdtimestamp_converted:  [8.47145409e+12]\n",
       "         changedtimestamp_converted:  [8.47545951e+12]\n",
       "         device_serial:               DEV4121\n",
       "         channel_name:                /dev4121/demods/0/sample.x],\n",
       "    [<xarray.DataArray '/dev4121/demods/0/sample.x' (col: 40)>\n",
       "     array([-2.00576022e-07, -2.24110644e-07, -2.47712034e-07, -2.70334769e-07,\n",
       "            -2.92241709e-07, -3.12063219e-07, -3.28711171e-07, -3.42882711e-07,\n",
       "            -3.54616338e-07, -3.63687086e-07, -3.70214657e-07, -3.75077853e-07,\n",
       "            -3.78733822e-07, -3.80348271e-07, -3.79504354e-07, -3.77128997e-07,\n",
       "            -3.72656781e-07, -3.64545439e-07, -3.53620240e-07, -3.40977132e-07,\n",
       "            -3.27106346e-07, -3.12602171e-07, -2.97885664e-07, -2.82943591e-07,\n",
       "            -2.69711606e-07, -2.59094981e-07, -2.49754155e-07, -2.41628377e-07,\n",
       "            -2.35306522e-07, -2.29979563e-07, -2.24539520e-07, -2.19354516e-07,\n",
       "            -2.15031475e-07, -2.11409190e-07, -2.08381798e-07, -2.05973358e-07,\n",
       "            -2.05102374e-07, -2.05838019e-07, -2.10798659e-07, -2.20603248e-07])\n",
       "     Coordinates:\n",
       "         time     (col) float64 1.005e+07 1.013e+07 1.02e+07 ... 1.289e+07 1.296e+07\n",
       "     Dimensions without coordinates: col\n",
       "     Attributes: (12/30)\n",
       "         systemtime:                  [1710526657]\n",
       "         createdtimestamp:            [508287245386]\n",
       "         changedtimestamp:            [508527570506]\n",
       "         flags:                       [1849]\n",
       "         moduleflags:                 [0]\n",
       "         chunksizebytes:              [0]\n",
       "         ...                          ...\n",
       "         nenbw:                       [nan]\n",
       "         systemtime_converted:        [2.85087776e+10]\n",
       "         createdtimestamp_converted:  [8.47145409e+12]\n",
       "         changedtimestamp_converted:  [8.47545951e+12]\n",
       "         device_serial:               DEV4121\n",
       "         channel_name:                /dev4121/demods/0/sample.x],\n",
       "    [<xarray.DataArray '/dev4121/demods/0/sample.x' (col: 40)>\n",
       "     array([2.87809795e-08, 2.98757250e-08, 2.99641467e-08, 2.93885031e-08,\n",
       "            2.87051894e-08, 2.93933151e-08, 2.91202303e-08, 2.73674345e-08,\n",
       "            2.73313439e-08, 3.05788884e-08, 3.58487045e-08, 4.10307004e-08,\n",
       "            4.52178012e-08, 4.71576661e-08, 4.58969043e-08, 4.24117639e-08,\n",
       "            3.78499234e-08, 3.27816126e-08, 2.86456400e-08, 2.58540390e-08,\n",
       "            2.36507133e-08, 2.14816736e-08, 1.93439124e-08, 1.89956389e-08,\n",
       "            2.08296384e-08, 2.46191420e-08, 2.92393290e-08, 3.44309490e-08,\n",
       "            3.97585099e-08, 4.57495347e-08, 5.19162000e-08, 5.80991060e-08,\n",
       "            6.37298272e-08, 6.98050633e-08, 7.56920271e-08, 7.99464968e-08,\n",
       "            8.33035159e-08, 8.58250396e-08, 8.63140660e-08, 8.61173727e-08])\n",
       "     Coordinates:\n",
       "         time     (col) float64 1.005e+07 1.013e+07 1.02e+07 ... 1.289e+07 1.296e+07\n",
       "     Dimensions without coordinates: col\n",
       "     Attributes: (12/30)\n",
       "         systemtime:                  [1710526657]\n",
       "         createdtimestamp:            [508287245386]\n",
       "         changedtimestamp:            [508527570506]\n",
       "         flags:                       [1849]\n",
       "         moduleflags:                 [0]\n",
       "         chunksizebytes:              [0]\n",
       "         ...                          ...\n",
       "         nenbw:                       [nan]\n",
       "         systemtime_converted:        [2.85087776e+10]\n",
       "         createdtimestamp_converted:  [8.47145409e+12]\n",
       "         changedtimestamp_converted:  [8.47545951e+12]\n",
       "         device_serial:               DEV4121\n",
       "         channel_name:                /dev4121/demods/0/sample.x]]},\n",
       "  'R': {'/dev4121/demods/0/sample.r': [[<xarray.DataArray '/dev4121/demods/0/sample.r' (col: 19)>\n",
       "     array([4.87627642e-08, 6.07470654e-08, 7.56112847e-08, 9.26885400e-08,\n",
       "            1.10935811e-07, 1.28416553e-07, 1.44400945e-07, 1.59116122e-07,\n",
       "            1.72943313e-07, 1.86338896e-07, 1.98104033e-07, 2.07529499e-07,\n",
       "            2.17310475e-07, 2.29824652e-07, 2.45213323e-07, 2.62537907e-07,\n",
       "            2.78578411e-07, 2.92955139e-07, 3.06316165e-07])\n",
       "     Coordinates:\n",
       "         time     (col) float64 6.541e+06 6.616e+06 6.691e+06 ... 7.811e+06 7.885e+06\n",
       "     Dimensions without coordinates: col\n",
       "     Attributes: (12/30)\n",
       "         systemtime:                  [1710526657]\n",
       "         createdtimestamp:            [508287245386]\n",
       "         changedtimestamp:            [508527570506]\n",
       "         flags:                       [1849]\n",
       "         moduleflags:                 [0]\n",
       "         chunksizebytes:              [0]\n",
       "         ...                          ...\n",
       "         nenbw:                       [nan]\n",
       "         systemtime_converted:        [2.85087776e+10]\n",
       "         createdtimestamp_converted:  [8.47145409e+12]\n",
       "         changedtimestamp_converted:  [8.47545951e+12]\n",
       "         device_serial:               DEV4121\n",
       "         channel_name:                /dev4121/demods/0/sample.r,\n",
       "     <xarray.DataArray '/dev4121/demods/0/sample.r' (col: 14)>\n",
       "     array([9.48986409e-07, 9.26531738e-07, 9.00312117e-07, 8.74601458e-07,\n",
       "            8.51502965e-07, 8.29514920e-07, 8.08595559e-07, 7.88554509e-07,\n",
       "            7.70149524e-07, 7.53765085e-07, 7.38067919e-07, 7.21402531e-07,\n",
       "            7.03021362e-07, 6.84099255e-07])\n",
       "     Coordinates:\n",
       "         time     (col) float64 1.401e+07 1.408e+07 1.416e+07 ... 1.49e+07 1.498e+07\n",
       "     Dimensions without coordinates: col\n",
       "     Attributes: (12/30)\n",
       "         systemtime:                  [1710526657]\n",
       "         createdtimestamp:            [508287245386]\n",
       "         changedtimestamp:            [508527570506]\n",
       "         flags:                       [1849]\n",
       "         moduleflags:                 [0]\n",
       "         chunksizebytes:              [0]\n",
       "         ...                          ...\n",
       "         nenbw:                       [nan]\n",
       "         systemtime_converted:        [2.85087776e+10]\n",
       "         createdtimestamp_converted:  [8.47145409e+12]\n",
       "         changedtimestamp_converted:  [8.47545951e+12]\n",
       "         device_serial:               DEV4121\n",
       "         channel_name:                /dev4121/demods/0/sample.r],\n",
       "    [<xarray.DataArray '/dev4121/demods/0/sample.r' (col: 19)>\n",
       "     array([1.38327667e-07, 1.15883932e-07, 9.52695907e-08, 7.80104458e-08,\n",
       "            6.86793847e-08, 6.83057155e-08, 7.37786415e-08, 8.17591601e-08,\n",
       "            8.98726707e-08, 9.81094173e-08, 1.06579797e-07, 1.14811848e-07,\n",
       "            1.23693457e-07, 1.35054172e-07, 1.49421077e-07, 1.65592215e-07,\n",
       "            1.82273200e-07, 1.99420804e-07, 2.17408484e-07])\n",
       "     Coordinates:\n",
       "         time     (col) float64 6.541e+06 6.616e+06 6.691e+06 ... 7.811e+06 7.885e+06\n",
       "     Dimensions without coordinates: col\n",
       "     Attributes: (12/30)\n",
       "         systemtime:                  [1710526657]\n",
       "         createdtimestamp:            [508287245386]\n",
       "         changedtimestamp:            [508527570506]\n",
       "         flags:                       [1849]\n",
       "         moduleflags:                 [0]\n",
       "         chunksizebytes:              [0]\n",
       "         ...                          ...\n",
       "         nenbw:                       [nan]\n",
       "         systemtime_converted:        [2.85087776e+10]\n",
       "         createdtimestamp_converted:  [8.47145409e+12]\n",
       "         changedtimestamp_converted:  [8.47545951e+12]\n",
       "         device_serial:               DEV4121\n",
       "         channel_name:                /dev4121/demods/0/sample.r,\n",
       "     <xarray.DataArray '/dev4121/demods/0/sample.r' (col: 14)>\n",
       "     array([4.06883065e-07, 4.08177471e-07, 4.07536239e-07, 4.03763261e-07,\n",
       "            3.96847297e-07, 3.88289826e-07, 3.78649887e-07, 3.70041180e-07,\n",
       "            3.65252264e-07, 3.63329925e-07, 3.61603981e-07, 3.57721485e-07,\n",
       "            3.50245227e-07, 3.38522710e-07])\n",
       "     Coordinates:\n",
       "         time     (col) float64 1.401e+07 1.408e+07 1.416e+07 ... 1.49e+07 1.498e+07\n",
       "     Dimensions without coordinates: col\n",
       "     Attributes: (12/30)\n",
       "         systemtime:                  [1710526657]\n",
       "         createdtimestamp:            [508287245386]\n",
       "         changedtimestamp:            [508527570506]\n",
       "         flags:                       [1849]\n",
       "         moduleflags:                 [0]\n",
       "         chunksizebytes:              [0]\n",
       "         ...                          ...\n",
       "         nenbw:                       [nan]\n",
       "         systemtime_converted:        [2.85087776e+10]\n",
       "         createdtimestamp_converted:  [8.47145409e+12]\n",
       "         changedtimestamp_converted:  [8.47545951e+12]\n",
       "         device_serial:               DEV4121\n",
       "         channel_name:                /dev4121/demods/0/sample.r],\n",
       "    [<xarray.DataArray '/dev4121/demods/0/sample.r' (col: 19)>\n",
       "     array([1.69781305e-07, 1.55813418e-07, 1.42654450e-07, 1.30911026e-07,\n",
       "            1.22368728e-07, 1.17471348e-07, 1.19153554e-07, 1.27390116e-07,\n",
       "            1.39451784e-07, 1.52867991e-07, 1.66501074e-07, 1.79592109e-07,\n",
       "            1.90330302e-07, 1.99230353e-07, 2.06782325e-07, 2.12202915e-07,\n",
       "            2.15381903e-07, 2.14584879e-07, 2.07903195e-07])\n",
       "     Coordinates:\n",
       "         time     (col) float64 6.541e+06 6.616e+06 6.691e+06 ... 7.811e+06 7.885e+06\n",
       "     Dimensions without coordinates: col\n",
       "     Attributes: (12/30)\n",
       "         systemtime:                  [1710526657]\n",
       "         createdtimestamp:            [508287245386]\n",
       "         changedtimestamp:            [508527570506]\n",
       "         flags:                       [1849]\n",
       "         moduleflags:                 [0]\n",
       "         chunksizebytes:              [0]\n",
       "         ...                          ...\n",
       "         nenbw:                       [nan]\n",
       "         systemtime_converted:        [2.85087776e+10]\n",
       "         createdtimestamp_converted:  [8.47145409e+12]\n",
       "         changedtimestamp_converted:  [8.47545951e+12]\n",
       "         device_serial:               DEV4121\n",
       "         channel_name:                /dev4121/demods/0/sample.r,\n",
       "     <xarray.DataArray '/dev4121/demods/0/sample.r' (col: 14)>\n",
       "     array([6.39989704e-07, 6.40686030e-07, 6.36908629e-07, 6.28231921e-07,\n",
       "            6.16603070e-07, 6.01626006e-07, 5.81495126e-07, 5.56504383e-07,\n",
       "            5.28040079e-07, 4.99209666e-07, 4.71260433e-07, 4.44104629e-07,\n",
       "            4.17910710e-07, 3.93556637e-07])\n",
       "     Coordinates:\n",
       "         time     (col) float64 1.401e+07 1.408e+07 1.416e+07 ... 1.49e+07 1.498e+07\n",
       "     Dimensions without coordinates: col\n",
       "     Attributes: (12/30)\n",
       "         systemtime:                  [1710526657]\n",
       "         createdtimestamp:            [508287245386]\n",
       "         changedtimestamp:            [508527570506]\n",
       "         flags:                       [1849]\n",
       "         moduleflags:                 [0]\n",
       "         chunksizebytes:              [0]\n",
       "         ...                          ...\n",
       "         nenbw:                       [nan]\n",
       "         systemtime_converted:        [2.85087776e+10]\n",
       "         createdtimestamp_converted:  [8.47145409e+12]\n",
       "         changedtimestamp_converted:  [8.47545951e+12]\n",
       "         device_serial:               DEV4121\n",
       "         channel_name:                /dev4121/demods/0/sample.r]]},\n",
       "  'A': {'/dev4121/auxins/0/sample.auxin0.avg': [[<xarray.DataArray '/dev4121/auxins/0/sample.auxin0.avg' (col: 20)>\n",
       "     array([-0.0003379 , -0.0003372 , -0.0003365 , -0.00033579, -0.00033509,\n",
       "            -0.00033439, -0.00033369, -0.00033298, -0.00033228, -0.00033158,\n",
       "            -0.00033087, -0.00033017, -0.00032947, -0.0003286 , -0.00032719,\n",
       "            -0.00032579, -0.00032438, -0.00032298, -0.00032157, -0.00032017])\n",
       "     Coordinates:\n",
       "         time     (col) float64 3.032e+06 3.107e+06 3.181e+06 ... 4.376e+06 4.451e+06\n",
       "     Dimensions without coordinates: col\n",
       "     Attributes: (12/30)\n",
       "         systemtime:                  [1710526657]\n",
       "         createdtimestamp:            [508287245386]\n",
       "         changedtimestamp:            [508527570506]\n",
       "         flags:                       [825]\n",
       "         moduleflags:                 [0]\n",
       "         chunksizebytes:              [0]\n",
       "         ...                          ...\n",
       "         nenbw:                       [nan]\n",
       "         systemtime_converted:        [2.85087776e+10]\n",
       "         createdtimestamp_converted:  [8.47145409e+12]\n",
       "         changedtimestamp_converted:  [8.47545951e+12]\n",
       "         device_serial:               DEV4121\n",
       "         channel_name:                /dev4121/auxins/0/sample.auxin0.avg,\n",
       "     <xarray.DataArray '/dev4121/auxins/0/sample.auxin0.avg' (col: 40)>\n",
       "     array([-0.00017682, -0.00017541, -0.00017401, -0.0001726 , -0.0001712 ,\n",
       "            -0.00016979, -0.00016839, -0.00016698, -0.00016558, -0.00016417,\n",
       "            -0.00016277, -0.00016136, -0.00015996, -0.00015855, -0.00015714,\n",
       "            -0.00015574, -0.00015433, -0.00015293, -0.00015152, -0.00015012,\n",
       "            -0.00014871, -0.00014731, -0.0001459 , -0.0001445 , -0.00014309,\n",
       "            -0.00014169, -0.00014028, -0.00013887, -0.00013747, -0.00013606,\n",
       "            -0.00013466, -0.00013325, -0.00013185, -0.00013044, -0.00012904,\n",
       "            -0.00012763, -0.00012623, -0.00012482, -0.00012342, -0.00012201])\n",
       "     Coordinates:\n",
       "         time     (col) float64 1.207e+07 1.214e+07 1.222e+07 ... 1.49e+07 1.498e+07\n",
       "     Dimensions without coordinates: col\n",
       "     Attributes: (12/30)\n",
       "         systemtime:                  [1710526657]\n",
       "         createdtimestamp:            [508287245386]\n",
       "         changedtimestamp:            [508527570506]\n",
       "         flags:                       [825]\n",
       "         moduleflags:                 [0]\n",
       "         chunksizebytes:              [0]\n",
       "         ...                          ...\n",
       "         nenbw:                       [nan]\n",
       "         systemtime_converted:        [2.85087776e+10]\n",
       "         createdtimestamp_converted:  [8.47145409e+12]\n",
       "         changedtimestamp_converted:  [8.47545951e+12]\n",
       "         device_serial:               DEV4121\n",
       "         channel_name:                /dev4121/auxins/0/sample.auxin0.avg],\n",
       "    [<xarray.DataArray '/dev4121/auxins/0/sample.auxin0.avg' (col: 20)>\n",
       "     array([-0.00032893, -0.00032893, -0.00032893, -0.00032893, -0.00032893,\n",
       "            -0.00032893, -0.00032893, -0.00032893, -0.00032893, -0.00032893,\n",
       "            -0.00032893, -0.00032893, -0.00032893, -0.00032893, -0.00032893,\n",
       "            -0.00032893, -0.00032893, -0.00032893, -0.00032893, -0.00032893])\n",
       "     Coordinates:\n",
       "         time     (col) float64 3.032e+06 3.107e+06 3.181e+06 ... 4.376e+06 4.451e+06\n",
       "     Dimensions without coordinates: col\n",
       "     Attributes: (12/30)\n",
       "         systemtime:                  [1710526657]\n",
       "         createdtimestamp:            [508287245386]\n",
       "         changedtimestamp:            [508527570506]\n",
       "         flags:                       [825]\n",
       "         moduleflags:                 [0]\n",
       "         chunksizebytes:              [0]\n",
       "         ...                          ...\n",
       "         nenbw:                       [nan]\n",
       "         systemtime_converted:        [2.85087776e+10]\n",
       "         createdtimestamp_converted:  [8.47145409e+12]\n",
       "         changedtimestamp_converted:  [8.47545951e+12]\n",
       "         device_serial:               DEV4121\n",
       "         channel_name:                /dev4121/auxins/0/sample.auxin0.avg,\n",
       "     <xarray.DataArray '/dev4121/auxins/0/sample.auxin0.avg' (col: 40)>\n",
       "     array([-0.00032893, -0.00032893, -0.00032893, -0.00032893, -0.00032893,\n",
       "            -0.00032893, -0.00032893, -0.00032893, -0.00032893, -0.00032893,\n",
       "            -0.00032893, -0.00032893, -0.00032893, -0.00032893, -0.00032893,\n",
       "            -0.00032893, -0.00032893, -0.00032893, -0.00032893, -0.00032893,\n",
       "            -0.00032893, -0.00032893, -0.00032893, -0.00032893, -0.00032893,\n",
       "            -0.00032893, -0.00032893, -0.00032893, -0.00032893, -0.00032893,\n",
       "            -0.00032893, -0.00032893, -0.00032893, -0.00032893, -0.00032893,\n",
       "            -0.00032893, -0.00032893, -0.00032893, -0.00032893, -0.00032893])\n",
       "     Coordinates:\n",
       "         time     (col) float64 1.207e+07 1.214e+07 1.222e+07 ... 1.49e+07 1.498e+07\n",
       "     Dimensions without coordinates: col\n",
       "     Attributes: (12/30)\n",
       "         systemtime:                  [1710526657]\n",
       "         createdtimestamp:            [508287245386]\n",
       "         changedtimestamp:            [508527570506]\n",
       "         flags:                       [825]\n",
       "         moduleflags:                 [0]\n",
       "         chunksizebytes:              [0]\n",
       "         ...                          ...\n",
       "         nenbw:                       [nan]\n",
       "         systemtime_converted:        [2.85087776e+10]\n",
       "         createdtimestamp_converted:  [8.47145409e+12]\n",
       "         changedtimestamp_converted:  [8.47545951e+12]\n",
       "         device_serial:               DEV4121\n",
       "         channel_name:                /dev4121/auxins/0/sample.auxin0.avg]]}},\n",
       " {'X': {'/dev4121/demods/0/sample.x': [[<xarray.DataArray '/dev4121/demods/0/sample.x' (col: 40)>\n",
       "     array([-7.29467422e-08, -5.35529047e-08, -3.25777012e-08, -1.33937901e-08,\n",
       "             9.11285401e-10,  1.08939207e-08,  1.64656941e-08,  1.77228469e-08,\n",
       "             1.55742585e-08,  1.13197888e-08,  6.08125109e-09,  1.07609873e-09,\n",
       "            -2.11490394e-09, -3.46889961e-09, -3.24393543e-09, -2.64122389e-09,\n",
       "            -1.23489698e-09,  1.41354501e-10,  1.05083538e-09,  1.45745513e-09,\n",
       "             5.46771241e-10, -2.38016920e-09, -7.68667732e-09, -1.56861391e-08,\n",
       "            -2.54588479e-08, -3.73825512e-08, -5.18025149e-08, -6.57731517e-08,\n",
       "            -7.75073798e-08, -8.75549780e-08, -9.47869149e-08, -9.72278365e-08,\n",
       "            -9.51333838e-08, -8.96079266e-08, -8.14087640e-08, -7.17629735e-08,\n",
       "            -6.18062030e-08, -5.21952999e-08, -4.18325112e-08, -3.23184510e-08])\n",
       "     Coordinates:\n",
       "         time     (col) float64 1.005e+07 1.013e+07 1.02e+07 ... 1.289e+07 1.296e+07\n",
       "     Dimensions without coordinates: col\n",
       "     Attributes: (12/30)\n",
       "         systemtime:                  [1710526662]\n",
       "         createdtimestamp:            [508648754506]\n",
       "         changedtimestamp:            [508889110986]\n",
       "         flags:                       [1849]\n",
       "         moduleflags:                 [0]\n",
       "         chunksizebytes:              [0]\n",
       "         ...                          ...\n",
       "         nenbw:                       [nan]\n",
       "         systemtime_converted:        [2.85087777e+10]\n",
       "         createdtimestamp_converted:  [8.47747924e+12]\n",
       "         changedtimestamp_converted:  [8.48148518e+12]\n",
       "         device_serial:               DEV4121\n",
       "         channel_name:                /dev4121/demods/0/sample.x],\n",
       "    [<xarray.DataArray '/dev4121/demods/0/sample.x' (col: 40)>\n",
       "     array([-7.07593718e-07, -7.15941956e-07, -7.21180115e-07, -7.24623201e-07,\n",
       "            -7.28084793e-07, -7.31260614e-07, -7.31776308e-07, -7.30340469e-07,\n",
       "            -7.28000549e-07, -7.24423883e-07, -7.19243505e-07, -7.12404005e-07,\n",
       "            -7.03388984e-07, -6.90205320e-07, -6.72522813e-07, -6.52759510e-07,\n",
       "            -6.32121301e-07, -6.09640761e-07, -5.85046328e-07, -5.59184980e-07,\n",
       "            -5.33539645e-07, -5.09293043e-07, -4.86631399e-07, -4.65901207e-07,\n",
       "            -4.48129077e-07, -4.33440093e-07, -4.21474162e-07, -4.12385897e-07,\n",
       "            -4.04891041e-07, -3.98416313e-07, -3.92176650e-07, -3.86005301e-07,\n",
       "            -3.78252959e-07, -3.68315714e-07, -3.57591990e-07, -3.49275567e-07,\n",
       "            -3.43494347e-07, -3.40291168e-07, -3.38013940e-07, -3.35126386e-07])\n",
       "     Coordinates:\n",
       "         time     (col) float64 1.005e+07 1.013e+07 1.02e+07 ... 1.289e+07 1.296e+07\n",
       "     Dimensions without coordinates: col\n",
       "     Attributes: (12/30)\n",
       "         systemtime:                  [1710526662]\n",
       "         createdtimestamp:            [508648754506]\n",
       "         changedtimestamp:            [508889110986]\n",
       "         flags:                       [1849]\n",
       "         moduleflags:                 [0]\n",
       "         chunksizebytes:              [0]\n",
       "         ...                          ...\n",
       "         nenbw:                       [nan]\n",
       "         systemtime_converted:        [2.85087777e+10]\n",
       "         createdtimestamp_converted:  [8.47747924e+12]\n",
       "         changedtimestamp_converted:  [8.48148518e+12]\n",
       "         device_serial:               DEV4121\n",
       "         channel_name:                /dev4121/demods/0/sample.x],\n",
       "    [<xarray.DataArray '/dev4121/demods/0/sample.x' (col: 40)>\n",
       "     array([-9.02497362e-08, -4.32989890e-08,  5.22349995e-09,  5.57640500e-08,\n",
       "             1.08557851e-07,  1.61711354e-07,  2.13638983e-07,  2.65860147e-07,\n",
       "             3.16789873e-07,  3.65605297e-07,  4.11525059e-07,  4.54146148e-07,\n",
       "             4.93327811e-07,  5.27965077e-07,  5.56797786e-07,  5.80783540e-07,\n",
       "             6.00530463e-07,  6.15456897e-07,  6.24676819e-07,  6.29326480e-07,\n",
       "             6.31060028e-07,  6.31237473e-07,  6.30800777e-07,  6.28597452e-07,\n",
       "             6.22019956e-07,  6.11692656e-07,  6.00111211e-07,  5.87917431e-07,\n",
       "             5.74853869e-07,  5.61152106e-07,  5.47665082e-07,  5.35352203e-07,\n",
       "             5.25509118e-07,  5.17958381e-07,  5.11670813e-07,  5.05202190e-07,\n",
       "             4.98954923e-07,  4.94445414e-07,  4.92367803e-07,  4.92686603e-07])\n",
       "     Coordinates:\n",
       "         time     (col) float64 1.005e+07 1.013e+07 1.02e+07 ... 1.289e+07 1.296e+07\n",
       "     Dimensions without coordinates: col\n",
       "     Attributes: (12/30)\n",
       "         systemtime:                  [1710526662]\n",
       "         createdtimestamp:            [508648754506]\n",
       "         changedtimestamp:            [508889110986]\n",
       "         flags:                       [1849]\n",
       "         moduleflags:                 [0]\n",
       "         chunksizebytes:              [0]\n",
       "         ...                          ...\n",
       "         nenbw:                       [nan]\n",
       "         systemtime_converted:        [2.85087777e+10]\n",
       "         createdtimestamp_converted:  [8.47747924e+12]\n",
       "         changedtimestamp_converted:  [8.48148518e+12]\n",
       "         device_serial:               DEV4121\n",
       "         channel_name:                /dev4121/demods/0/sample.x]]},\n",
       "  'R': {'/dev4121/demods/0/sample.r': [[<xarray.DataArray '/dev4121/demods/0/sample.r' (col: 19)>\n",
       "     array([4.43367359e-07, 4.56491710e-07, 4.67857252e-07, 4.78191850e-07,\n",
       "            4.88456660e-07, 4.97630383e-07, 5.03891811e-07, 5.07151752e-07,\n",
       "            5.06416726e-07, 5.00208395e-07, 4.88259704e-07, 4.71835178e-07,\n",
       "            4.51287987e-07, 4.28207148e-07, 4.04759697e-07, 3.83106318e-07,\n",
       "            3.64625421e-07, 3.50548674e-07, 3.42839967e-07])\n",
       "     Coordinates:\n",
       "         time     (col) float64 6.541e+06 6.616e+06 6.691e+06 ... 7.811e+06 7.885e+06\n",
       "     Dimensions without coordinates: col\n",
       "     Attributes: (12/30)\n",
       "         systemtime:                  [1710526662]\n",
       "         createdtimestamp:            [508648754506]\n",
       "         changedtimestamp:            [508889110986]\n",
       "         flags:                       [1849]\n",
       "         moduleflags:                 [0]\n",
       "         chunksizebytes:              [0]\n",
       "         ...                          ...\n",
       "         nenbw:                       [nan]\n",
       "         systemtime_converted:        [2.85087777e+10]\n",
       "         createdtimestamp_converted:  [8.47747924e+12]\n",
       "         changedtimestamp_converted:  [8.48148518e+12]\n",
       "         device_serial:               DEV4121\n",
       "         channel_name:                /dev4121/demods/0/sample.r,\n",
       "     <xarray.DataArray '/dev4121/demods/0/sample.r' (col: 14)>\n",
       "     array([1.61325389e-07, 1.71335591e-07, 1.77705139e-07, 1.80228788e-07,\n",
       "            1.79237108e-07, 1.76320654e-07, 1.72410229e-07, 1.67611314e-07,\n",
       "            1.61389733e-07, 1.53946671e-07, 1.45240351e-07, 1.34164128e-07,\n",
       "            1.20815576e-07, 1.04030568e-07])\n",
       "     Coordinates:\n",
       "         time     (col) float64 1.401e+07 1.408e+07 1.416e+07 ... 1.49e+07 1.498e+07\n",
       "     Dimensions without coordinates: col\n",
       "     Attributes: (12/30)\n",
       "         systemtime:                  [1710526662]\n",
       "         createdtimestamp:            [508648754506]\n",
       "         changedtimestamp:            [508889110986]\n",
       "         flags:                       [1849]\n",
       "         moduleflags:                 [0]\n",
       "         chunksizebytes:              [0]\n",
       "         ...                          ...\n",
       "         nenbw:                       [nan]\n",
       "         systemtime_converted:        [2.85087777e+10]\n",
       "         createdtimestamp_converted:  [8.47747924e+12]\n",
       "         changedtimestamp_converted:  [8.48148518e+12]\n",
       "         device_serial:               DEV4121\n",
       "         channel_name:                /dev4121/demods/0/sample.r],\n",
       "    [<xarray.DataArray '/dev4121/demods/0/sample.r' (col: 19)>\n",
       "     array([4.62448027e-07, 4.98807703e-07, 5.31525164e-07, 5.60250960e-07,\n",
       "            5.83766059e-07, 6.01463201e-07, 6.13858929e-07, 6.21909530e-07,\n",
       "            6.26504009e-07, 6.28184800e-07, 6.25235415e-07, 6.18094212e-07,\n",
       "            6.08724552e-07, 5.96488202e-07, 5.82386730e-07, 5.66749910e-07,\n",
       "            5.48983195e-07, 5.28874207e-07, 5.06661917e-07])\n",
       "     Coordinates:\n",
       "         time     (col) float64 6.541e+06 6.616e+06 6.691e+06 ... 7.811e+06 7.885e+06\n",
       "     Dimensions without coordinates: col\n",
       "     Attributes: (12/30)\n",
       "         systemtime:                  [1710526662]\n",
       "         createdtimestamp:            [508648754506]\n",
       "         changedtimestamp:            [508889110986]\n",
       "         flags:                       [1849]\n",
       "         moduleflags:                 [0]\n",
       "         chunksizebytes:              [0]\n",
       "         ...                          ...\n",
       "         nenbw:                       [nan]\n",
       "         systemtime_converted:        [2.85087777e+10]\n",
       "         createdtimestamp_converted:  [8.47747924e+12]\n",
       "         changedtimestamp_converted:  [8.48148518e+12]\n",
       "         device_serial:               DEV4121\n",
       "         channel_name:                /dev4121/demods/0/sample.r,\n",
       "     <xarray.DataArray '/dev4121/demods/0/sample.r' (col: 14)>\n",
       "     array([7.99496511e-07, 8.31425450e-07, 8.57170449e-07, 8.76177665e-07,\n",
       "            8.89082157e-07, 8.98560179e-07, 9.07182312e-07, 9.15191823e-07,\n",
       "            9.22602517e-07, 9.29959587e-07, 9.38617959e-07, 9.48882356e-07,\n",
       "            9.59776062e-07, 9.71380521e-07])\n",
       "     Coordinates:\n",
       "         time     (col) float64 1.401e+07 1.408e+07 1.416e+07 ... 1.49e+07 1.498e+07\n",
       "     Dimensions without coordinates: col\n",
       "     Attributes: (12/30)\n",
       "         systemtime:                  [1710526662]\n",
       "         createdtimestamp:            [508648754506]\n",
       "         changedtimestamp:            [508889110986]\n",
       "         flags:                       [1849]\n",
       "         moduleflags:                 [0]\n",
       "         chunksizebytes:              [0]\n",
       "         ...                          ...\n",
       "         nenbw:                       [nan]\n",
       "         systemtime_converted:        [2.85087777e+10]\n",
       "         createdtimestamp_converted:  [8.47747924e+12]\n",
       "         changedtimestamp_converted:  [8.48148518e+12]\n",
       "         device_serial:               DEV4121\n",
       "         channel_name:                /dev4121/demods/0/sample.r],\n",
       "    [<xarray.DataArray '/dev4121/demods/0/sample.r' (col: 19)>\n",
       "     array([2.29429893e-07, 2.19627070e-07, 2.07485906e-07, 1.93415078e-07,\n",
       "            1.79153368e-07, 1.66180434e-07, 1.55497015e-07, 1.48933293e-07,\n",
       "            1.45270274e-07, 1.44517020e-07, 1.47238942e-07, 1.52752871e-07,\n",
       "            1.60506890e-07, 1.71251655e-07, 1.86017627e-07, 2.04476634e-07,\n",
       "            2.26066889e-07, 2.48882981e-07, 2.70800870e-07])\n",
       "     Coordinates:\n",
       "         time     (col) float64 6.541e+06 6.616e+06 6.691e+06 ... 7.811e+06 7.885e+06\n",
       "     Dimensions without coordinates: col\n",
       "     Attributes: (12/30)\n",
       "         systemtime:                  [1710526662]\n",
       "         createdtimestamp:            [508648754506]\n",
       "         changedtimestamp:            [508889110986]\n",
       "         flags:                       [1849]\n",
       "         moduleflags:                 [0]\n",
       "         chunksizebytes:              [0]\n",
       "         ...                          ...\n",
       "         nenbw:                       [nan]\n",
       "         systemtime_converted:        [2.85087777e+10]\n",
       "         createdtimestamp_converted:  [8.47747924e+12]\n",
       "         changedtimestamp_converted:  [8.48148518e+12]\n",
       "         device_serial:               DEV4121\n",
       "         channel_name:                /dev4121/demods/0/sample.r,\n",
       "     <xarray.DataArray '/dev4121/demods/0/sample.r' (col: 14)>\n",
       "     array([5.91696935e-07, 5.74654276e-07, 5.56626776e-07, 5.38546842e-07,\n",
       "            5.19548794e-07, 4.99424851e-07, 4.78721361e-07, 4.57361574e-07,\n",
       "            4.36656058e-07, 4.18123256e-07, 4.02950779e-07, 3.93908026e-07,\n",
       "            3.90157061e-07, 3.92331186e-07])\n",
       "     Coordinates:\n",
       "         time     (col) float64 1.401e+07 1.408e+07 1.416e+07 ... 1.49e+07 1.498e+07\n",
       "     Dimensions without coordinates: col\n",
       "     Attributes: (12/30)\n",
       "         systemtime:                  [1710526662]\n",
       "         createdtimestamp:            [508648754506]\n",
       "         changedtimestamp:            [508889110986]\n",
       "         flags:                       [1849]\n",
       "         moduleflags:                 [0]\n",
       "         chunksizebytes:              [0]\n",
       "         ...                          ...\n",
       "         nenbw:                       [nan]\n",
       "         systemtime_converted:        [2.85087777e+10]\n",
       "         createdtimestamp_converted:  [8.47747924e+12]\n",
       "         changedtimestamp_converted:  [8.48148518e+12]\n",
       "         device_serial:               DEV4121\n",
       "         channel_name:                /dev4121/demods/0/sample.r]]},\n",
       "  'A': {'/dev4121/auxins/0/sample.auxin0.avg': [[<xarray.DataArray '/dev4121/auxins/0/sample.auxin0.avg' (col: 0)>\n",
       "     array([], dtype=float64)\n",
       "     Coordinates:\n",
       "         time     (col) float64 \n",
       "     Dimensions without coordinates: col\n",
       "     Attributes: (12/30)\n",
       "         systemtime:                  [1710526662]\n",
       "         createdtimestamp:            [508648754506]\n",
       "         changedtimestamp:            [508889110986]\n",
       "         flags:                       [825]\n",
       "         moduleflags:                 [0]\n",
       "         chunksizebytes:              [0]\n",
       "         ...                          ...\n",
       "         nenbw:                       [nan]\n",
       "         systemtime_converted:        [2.85087777e+10]\n",
       "         createdtimestamp_converted:  [8.47747924e+12]\n",
       "         changedtimestamp_converted:  [8.48148518e+12]\n",
       "         device_serial:               DEV4121\n",
       "         channel_name:                /dev4121/auxins/0/sample.auxin0.avg,\n",
       "     <xarray.DataArray '/dev4121/auxins/0/sample.auxin0.avg' (col: 0)>\n",
       "     array([], dtype=float64)\n",
       "     Coordinates:\n",
       "         time     (col) float64 \n",
       "     Dimensions without coordinates: col\n",
       "     Attributes: (12/30)\n",
       "         systemtime:                  [1710526662]\n",
       "         createdtimestamp:            [508648754506]\n",
       "         changedtimestamp:            [508889110986]\n",
       "         flags:                       [825]\n",
       "         moduleflags:                 [0]\n",
       "         chunksizebytes:              [0]\n",
       "         ...                          ...\n",
       "         nenbw:                       [nan]\n",
       "         systemtime_converted:        [2.85087777e+10]\n",
       "         createdtimestamp_converted:  [8.47747924e+12]\n",
       "         changedtimestamp_converted:  [8.48148518e+12]\n",
       "         device_serial:               DEV4121\n",
       "         channel_name:                /dev4121/auxins/0/sample.auxin0.avg],\n",
       "    [<xarray.DataArray '/dev4121/auxins/0/sample.auxin0.avg' (col: 20)>\n",
       "     array([-0.00038712, -0.00038361, -0.00038009, -0.00037658, -0.00037307,\n",
       "            -0.00036955, -0.00036604, -0.00036253, -0.00035901, -0.0003555 ,\n",
       "            -0.00035199, -0.00034847, -0.00034496, -0.00034145, -0.00033793,\n",
       "            -0.00033442, -0.0003309 , -0.00032893, -0.00032893, -0.00032893])\n",
       "     Coordinates:\n",
       "         time     (col) float64 3.032e+06 3.107e+06 3.181e+06 ... 4.376e+06 4.451e+06\n",
       "     Dimensions without coordinates: col\n",
       "     Attributes: (12/30)\n",
       "         systemtime:                  [1710526662]\n",
       "         createdtimestamp:            [508648754506]\n",
       "         changedtimestamp:            [508889110986]\n",
       "         flags:                       [825]\n",
       "         moduleflags:                 [0]\n",
       "         chunksizebytes:              [0]\n",
       "         ...                          ...\n",
       "         nenbw:                       [nan]\n",
       "         systemtime_converted:        [2.85087777e+10]\n",
       "         createdtimestamp_converted:  [8.47747924e+12]\n",
       "         changedtimestamp_converted:  [8.48148518e+12]\n",
       "         device_serial:               DEV4121\n",
       "         channel_name:                /dev4121/auxins/0/sample.auxin0.avg,\n",
       "     <xarray.DataArray '/dev4121/auxins/0/sample.auxin0.avg' (col: 40)>\n",
       "     array([-0.00032893, -0.00032893, -0.00032893, -0.00032893, -0.00032893,\n",
       "            -0.00032893, -0.00032893, -0.00032893, -0.00032893, -0.00032893,\n",
       "            -0.00032893, -0.00032893, -0.00032893, -0.00032893, -0.00032893,\n",
       "            -0.00032893, -0.00032893, -0.00032893, -0.00032893, -0.00032893,\n",
       "            -0.00032893, -0.00032893, -0.00032893, -0.00032893, -0.00032893,\n",
       "            -0.00032893, -0.00032893, -0.00032893, -0.00032893, -0.00032893,\n",
       "            -0.00032893, -0.00032893, -0.00032893, -0.00032893, -0.00032893,\n",
       "            -0.00032893, -0.00032893, -0.00032893, -0.00032893, -0.00032893])\n",
       "     Coordinates:\n",
       "         time     (col) float64 1.207e+07 1.214e+07 1.222e+07 ... 1.49e+07 1.498e+07\n",
       "     Dimensions without coordinates: col\n",
       "     Attributes: (12/30)\n",
       "         systemtime:                  [1710526662]\n",
       "         createdtimestamp:            [508648754506]\n",
       "         changedtimestamp:            [508889110986]\n",
       "         flags:                       [825]\n",
       "         moduleflags:                 [0]\n",
       "         chunksizebytes:              [0]\n",
       "         ...                          ...\n",
       "         nenbw:                       [nan]\n",
       "         systemtime_converted:        [2.85087777e+10]\n",
       "         createdtimestamp_converted:  [8.47747924e+12]\n",
       "         changedtimestamp_converted:  [8.48148518e+12]\n",
       "         device_serial:               DEV4121\n",
       "         channel_name:                /dev4121/auxins/0/sample.auxin0.avg]]}},\n",
       " {'X': {'/dev4121/demods/0/sample.x': [[<xarray.DataArray '/dev4121/demods/0/sample.x' (col: 40)>\n",
       "     array([1.75149054e-07, 1.62448202e-07, 1.46564166e-07, 1.29419369e-07,\n",
       "            1.10832155e-07, 9.24284000e-08, 7.56276657e-08, 6.01911526e-08,\n",
       "            4.89170785e-08, 4.23317633e-08, 4.02727997e-08, 4.25819908e-08,\n",
       "            4.83372243e-08, 5.69381946e-08, 6.62838324e-08, 7.68072239e-08,\n",
       "            8.78707700e-08, 9.93986807e-08, 1.10106134e-07, 1.19986513e-07,\n",
       "            1.28110487e-07, 1.34080459e-07, 1.37988460e-07, 1.41196304e-07,\n",
       "            1.43927755e-07, 1.45654686e-07, 1.49997577e-07, 1.58522757e-07,\n",
       "            1.69862997e-07, 1.82562045e-07, 1.94450861e-07, 2.03845822e-07,\n",
       "            2.10428130e-07, 2.14434778e-07, 2.14819744e-07, 2.09623913e-07,\n",
       "            1.98597661e-07, 1.82412269e-07, 1.62010905e-07, 1.37951166e-07])\n",
       "     Coordinates:\n",
       "         time     (col) float64 1.005e+07 1.013e+07 1.02e+07 ... 1.289e+07 1.296e+07\n",
       "     Dimensions without coordinates: col\n",
       "     Attributes: (12/30)\n",
       "         systemtime:                  [1710526668]\n",
       "         createdtimestamp:            [509009676746]\n",
       "         changedtimestamp:            [509248205386]\n",
       "         flags:                       [1849]\n",
       "         moduleflags:                 [0]\n",
       "         chunksizebytes:              [0]\n",
       "         ...                          ...\n",
       "         nenbw:                       [nan]\n",
       "         systemtime_converted:        [2.85087778e+10]\n",
       "         createdtimestamp_converted:  [8.48349461e+12]\n",
       "         changedtimestamp_converted:  [8.48747009e+12]\n",
       "         device_serial:               DEV4121\n",
       "         channel_name:                /dev4121/demods/0/sample.x],\n",
       "    [<xarray.DataArray '/dev4121/demods/0/sample.x' (col: 40)>\n",
       "     array([ 2.95171657e-07,  2.70631313e-07,  2.43636212e-07,  2.14207408e-07,\n",
       "             1.82513323e-07,  1.49850207e-07,  1.16808142e-07,  8.51152595e-08,\n",
       "             5.67763888e-08,  3.24459708e-08,  1.30599529e-08, -3.21746905e-09,\n",
       "            -1.69426904e-08, -2.63743439e-08, -3.17355893e-08, -3.37801167e-08,\n",
       "            -3.20989004e-08, -2.80308983e-08, -2.47460603e-08, -2.33325153e-08,\n",
       "            -2.34437944e-08, -2.46582401e-08, -2.59472728e-08, -2.76206695e-08,\n",
       "            -2.98817400e-08, -3.22655183e-08, -3.39876372e-08, -3.64147240e-08,\n",
       "            -4.13254396e-08, -4.94313683e-08, -6.15980811e-08, -7.79332478e-08,\n",
       "            -9.83911540e-08, -1.23564285e-07, -1.51248715e-07, -1.79989995e-07,\n",
       "            -2.09993239e-07, -2.40169719e-07, -2.68331746e-07, -2.95592713e-07])\n",
       "     Coordinates:\n",
       "         time     (col) float64 1.005e+07 1.013e+07 1.02e+07 ... 1.289e+07 1.296e+07\n",
       "     Dimensions without coordinates: col\n",
       "     Attributes: (12/30)\n",
       "         systemtime:                  [1710526668]\n",
       "         createdtimestamp:            [509009676746]\n",
       "         changedtimestamp:            [509248205386]\n",
       "         flags:                       [1849]\n",
       "         moduleflags:                 [0]\n",
       "         chunksizebytes:              [0]\n",
       "         ...                          ...\n",
       "         nenbw:                       [nan]\n",
       "         systemtime_converted:        [2.85087778e+10]\n",
       "         createdtimestamp_converted:  [8.48349461e+12]\n",
       "         changedtimestamp_converted:  [8.48747009e+12]\n",
       "         device_serial:               DEV4121\n",
       "         channel_name:                /dev4121/demods/0/sample.x],\n",
       "    [<xarray.DataArray '/dev4121/demods/0/sample.x' (col: 40)>\n",
       "     array([-3.28086805e-08, -1.43507902e-08,  5.83824165e-09,  2.58137380e-08,\n",
       "             4.55690821e-08,  6.43259222e-08,  8.05287571e-08,  9.28656967e-08,\n",
       "             1.01180349e-07,  1.06540391e-07,  1.10957268e-07,  1.13212324e-07,\n",
       "             1.12239083e-07,  1.08856199e-07,  1.03402321e-07,  9.69192626e-08,\n",
       "             8.90617569e-08,  7.86478399e-08,  6.86417458e-08,  5.94753575e-08,\n",
       "             5.19306362e-08,  4.58439715e-08,  4.10337079e-08,  3.77681182e-08,\n",
       "             3.53145650e-08,  3.42559100e-08,  3.50956159e-08,  3.75407480e-08,\n",
       "             4.08189694e-08,  4.44238099e-08,  4.94716694e-08,  5.64906723e-08,\n",
       "             6.49984087e-08,  7.33876480e-08,  8.17029017e-08,  8.95598059e-08,\n",
       "             9.82648372e-08,  1.06477233e-07,  1.12222241e-07,  1.14899555e-07])\n",
       "     Coordinates:\n",
       "         time     (col) float64 1.005e+07 1.013e+07 1.02e+07 ... 1.289e+07 1.296e+07\n",
       "     Dimensions without coordinates: col\n",
       "     Attributes: (12/30)\n",
       "         systemtime:                  [1710526668]\n",
       "         createdtimestamp:            [509009676746]\n",
       "         changedtimestamp:            [509248205386]\n",
       "         flags:                       [1849]\n",
       "         moduleflags:                 [0]\n",
       "         chunksizebytes:              [0]\n",
       "         ...                          ...\n",
       "         nenbw:                       [nan]\n",
       "         systemtime_converted:        [2.85087778e+10]\n",
       "         createdtimestamp_converted:  [8.48349461e+12]\n",
       "         changedtimestamp_converted:  [8.48747009e+12]\n",
       "         device_serial:               DEV4121\n",
       "         channel_name:                /dev4121/demods/0/sample.x]]},\n",
       "  'R': {'/dev4121/demods/0/sample.r': [[<xarray.DataArray '/dev4121/demods/0/sample.r' (col: 19)>\n",
       "     array([8.13459180e-07, 7.96479948e-07, 7.73354774e-07, 7.43799044e-07,\n",
       "            7.09396273e-07, 6.71009558e-07, 6.30581756e-07, 5.87727111e-07,\n",
       "            5.42025166e-07, 4.95492020e-07, 4.48913677e-07, 4.01497620e-07,\n",
       "            3.53135738e-07, 3.06662930e-07, 2.64562858e-07, 2.29452359e-07,\n",
       "            2.03874507e-07, 1.87618403e-07, 1.80172065e-07])\n",
       "     Coordinates:\n",
       "         time     (col) float64 6.541e+06 6.616e+06 6.691e+06 ... 7.811e+06 7.885e+06\n",
       "     Dimensions without coordinates: col\n",
       "     Attributes: (12/30)\n",
       "         systemtime:                  [1710526668]\n",
       "         createdtimestamp:            [509009676746]\n",
       "         changedtimestamp:            [509248205386]\n",
       "         flags:                       [1849]\n",
       "         moduleflags:                 [0]\n",
       "         chunksizebytes:              [0]\n",
       "         ...                          ...\n",
       "         nenbw:                       [nan]\n",
       "         systemtime_converted:        [2.85087778e+10]\n",
       "         createdtimestamp_converted:  [8.48349461e+12]\n",
       "         changedtimestamp_converted:  [8.48747009e+12]\n",
       "         device_serial:               DEV4121\n",
       "         channel_name:                /dev4121/demods/0/sample.r,\n",
       "     <xarray.DataArray '/dev4121/demods/0/sample.r' (col: 14)>\n",
       "     array([6.66856421e-07, 6.54423039e-07, 6.37718885e-07, 6.18034405e-07,\n",
       "            5.97659370e-07, 5.78428764e-07, 5.62565753e-07, 5.52745951e-07,\n",
       "            5.49810872e-07, 5.51371712e-07, 5.55572375e-07, 5.61350622e-07,\n",
       "            5.67960029e-07, 5.74299493e-07])\n",
       "     Coordinates:\n",
       "         time     (col) float64 1.401e+07 1.408e+07 1.416e+07 ... 1.49e+07 1.498e+07\n",
       "     Dimensions without coordinates: col\n",
       "     Attributes: (12/30)\n",
       "         systemtime:                  [1710526668]\n",
       "         createdtimestamp:            [509009676746]\n",
       "         changedtimestamp:            [509248205386]\n",
       "         flags:                       [1849]\n",
       "         moduleflags:                 [0]\n",
       "         chunksizebytes:              [0]\n",
       "         ...                          ...\n",
       "         nenbw:                       [nan]\n",
       "         systemtime_converted:        [2.85087778e+10]\n",
       "         createdtimestamp_converted:  [8.48349461e+12]\n",
       "         changedtimestamp_converted:  [8.48747009e+12]\n",
       "         device_serial:               DEV4121\n",
       "         channel_name:                /dev4121/demods/0/sample.r],\n",
       "    [<xarray.DataArray '/dev4121/demods/0/sample.r' (col: 19)>\n",
       "     array([1.99525324e-07, 2.04396274e-07, 2.06658955e-07, 2.06942004e-07,\n",
       "            2.04999107e-07, 2.00295939e-07, 1.92292939e-07, 1.81887141e-07,\n",
       "            1.72091906e-07, 1.62425979e-07, 1.51741110e-07, 1.38655871e-07,\n",
       "            1.24448665e-07, 1.10742216e-07, 9.93241042e-08, 9.22122928e-08,\n",
       "            9.15460900e-08, 9.85520411e-08, 1.13260972e-07])\n",
       "     Coordinates:\n",
       "         time     (col) float64 6.541e+06 6.616e+06 6.691e+06 ... 7.811e+06 7.885e+06\n",
       "     Dimensions without coordinates: col\n",
       "     Attributes: (12/30)\n",
       "         systemtime:                  [1710526668]\n",
       "         createdtimestamp:            [509009676746]\n",
       "         changedtimestamp:            [509248205386]\n",
       "         flags:                       [1849]\n",
       "         moduleflags:                 [0]\n",
       "         chunksizebytes:              [0]\n",
       "         ...                          ...\n",
       "         nenbw:                       [nan]\n",
       "         systemtime_converted:        [2.85087778e+10]\n",
       "         createdtimestamp_converted:  [8.48349461e+12]\n",
       "         changedtimestamp_converted:  [8.48747009e+12]\n",
       "         device_serial:               DEV4121\n",
       "         channel_name:                /dev4121/demods/0/sample.r,\n",
       "     <xarray.DataArray '/dev4121/demods/0/sample.r' (col: 14)>\n",
       "     array([4.96214691e-07, 4.98733211e-07, 5.03036702e-07, 5.06505458e-07,\n",
       "            5.07337914e-07, 5.06390210e-07, 5.05891976e-07, 5.05352012e-07,\n",
       "            5.05301169e-07, 5.05095762e-07, 5.05107273e-07, 5.07130257e-07,\n",
       "            5.10138085e-07, 5.11309185e-07])\n",
       "     Coordinates:\n",
       "         time     (col) float64 1.401e+07 1.408e+07 1.416e+07 ... 1.49e+07 1.498e+07\n",
       "     Dimensions without coordinates: col\n",
       "     Attributes: (12/30)\n",
       "         systemtime:                  [1710526668]\n",
       "         createdtimestamp:            [509009676746]\n",
       "         changedtimestamp:            [509248205386]\n",
       "         flags:                       [1849]\n",
       "         moduleflags:                 [0]\n",
       "         chunksizebytes:              [0]\n",
       "         ...                          ...\n",
       "         nenbw:                       [nan]\n",
       "         systemtime_converted:        [2.85087778e+10]\n",
       "         createdtimestamp_converted:  [8.48349461e+12]\n",
       "         changedtimestamp_converted:  [8.48747009e+12]\n",
       "         device_serial:               DEV4121\n",
       "         channel_name:                /dev4121/demods/0/sample.r],\n",
       "    [<xarray.DataArray '/dev4121/demods/0/sample.r' (col: 19)>\n",
       "     array([4.38128838e-07, 4.51176952e-07, 4.59539357e-07, 4.65727622e-07,\n",
       "            4.70103236e-07, 4.72691127e-07, 4.73499349e-07, 4.70868574e-07,\n",
       "            4.65860904e-07, 4.58884558e-07, 4.51497606e-07, 4.46207370e-07,\n",
       "            4.46313462e-07, 4.49924709e-07, 4.55605592e-07, 4.62419262e-07,\n",
       "            4.69785179e-07, 4.76934319e-07, 4.83758174e-07])\n",
       "     Coordinates:\n",
       "         time     (col) float64 6.541e+06 6.616e+06 6.691e+06 ... 7.811e+06 7.885e+06\n",
       "     Dimensions without coordinates: col\n",
       "     Attributes: (12/30)\n",
       "         systemtime:                  [1710526668]\n",
       "         createdtimestamp:            [509009676746]\n",
       "         changedtimestamp:            [509248205386]\n",
       "         flags:                       [1849]\n",
       "         moduleflags:                 [0]\n",
       "         chunksizebytes:              [0]\n",
       "         ...                          ...\n",
       "         nenbw:                       [nan]\n",
       "         systemtime_converted:        [2.85087778e+10]\n",
       "         createdtimestamp_converted:  [8.48349461e+12]\n",
       "         changedtimestamp_converted:  [8.48747009e+12]\n",
       "         device_serial:               DEV4121\n",
       "         channel_name:                /dev4121/demods/0/sample.r,\n",
       "     <xarray.DataArray '/dev4121/demods/0/sample.r' (col: 14)>\n",
       "     array([4.03048951e-07, 4.20319142e-07, 4.37855164e-07, 4.54944401e-07,\n",
       "            4.70263544e-07, 4.85039038e-07, 5.00235966e-07, 5.14821475e-07,\n",
       "            5.25446561e-07, 5.31680974e-07, 5.33639516e-07, 5.31162239e-07,\n",
       "            5.22662834e-07, 5.08989540e-07])\n",
       "     Coordinates:\n",
       "         time     (col) float64 1.401e+07 1.408e+07 1.416e+07 ... 1.49e+07 1.498e+07\n",
       "     Dimensions without coordinates: col\n",
       "     Attributes: (12/30)\n",
       "         systemtime:                  [1710526668]\n",
       "         createdtimestamp:            [509009676746]\n",
       "         changedtimestamp:            [509248205386]\n",
       "         flags:                       [1849]\n",
       "         moduleflags:                 [0]\n",
       "         chunksizebytes:              [0]\n",
       "         ...                          ...\n",
       "         nenbw:                       [nan]\n",
       "         systemtime_converted:        [2.85087778e+10]\n",
       "         createdtimestamp_converted:  [8.48349461e+12]\n",
       "         changedtimestamp_converted:  [8.48747009e+12]\n",
       "         device_serial:               DEV4121\n",
       "         channel_name:                /dev4121/demods/0/sample.r]]},\n",
       "  'A': {'/dev4121/auxins/0/sample.auxin0.avg': [[<xarray.DataArray '/dev4121/auxins/0/sample.auxin0.avg' (col: 20)>\n",
       "     array([-0.0005843 , -0.00058009, -0.00057587, -0.00057166, -0.00056744,\n",
       "            -0.00056322, -0.00055901, -0.00055479, -0.00055058, -0.00054636,\n",
       "            -0.00054214, -0.00053793, -0.00053371, -0.00052949, -0.00052528,\n",
       "            -0.00052106, -0.00051685, -0.00051263, -0.00050841, -0.0005042 ])\n",
       "     Coordinates:\n",
       "         time     (col) float64 3.032e+06 3.107e+06 3.181e+06 ... 4.376e+06 4.451e+06\n",
       "     Dimensions without coordinates: col\n",
       "     Attributes: (12/30)\n",
       "         systemtime:                  [1710526668]\n",
       "         createdtimestamp:            [509009676746]\n",
       "         changedtimestamp:            [509248205386]\n",
       "         flags:                       [313]\n",
       "         moduleflags:                 [0]\n",
       "         chunksizebytes:              [0]\n",
       "         ...                          ...\n",
       "         nenbw:                       [nan]\n",
       "         systemtime_converted:        [2.85087778e+10]\n",
       "         createdtimestamp_converted:  [8.48349461e+12]\n",
       "         changedtimestamp_converted:  [8.48747009e+12]\n",
       "         device_serial:               DEV4121\n",
       "         channel_name:                /dev4121/auxins/0/sample.auxin0.avg,\n",
       "     <xarray.DataArray '/dev4121/auxins/0/sample.auxin0.avg' (col: 40)>\n",
       "     array([-7.41579017e-05, -6.99418179e-05, -6.57257342e-05, -6.15096504e-05,\n",
       "            -5.72935667e-05, -5.30774829e-05, -4.88613992e-05, -4.46453154e-05,\n",
       "            -4.04292317e-05, -3.62131479e-05, -3.19970642e-05, -2.77809804e-05,\n",
       "            -2.35648967e-05, -1.93488129e-05, -1.51327292e-05, -1.09166454e-05,\n",
       "            -6.70056167e-06, -2.48447792e-06,  0.00000000e+00,  0.00000000e+00,\n",
       "             0.00000000e+00,  0.00000000e+00,  0.00000000e+00,  0.00000000e+00,\n",
       "             0.00000000e+00,  0.00000000e+00,  0.00000000e+00,  0.00000000e+00,\n",
       "             0.00000000e+00,  0.00000000e+00,  0.00000000e+00,  0.00000000e+00,\n",
       "             0.00000000e+00,  0.00000000e+00,  0.00000000e+00,  0.00000000e+00,\n",
       "             0.00000000e+00,  0.00000000e+00,  0.00000000e+00,  0.00000000e+00])\n",
       "     Coordinates:\n",
       "         time     (col) float64 1.207e+07 1.214e+07 1.222e+07 ... 1.49e+07 1.498e+07\n",
       "     Dimensions without coordinates: col\n",
       "     Attributes: (12/30)\n",
       "         systemtime:                  [1710526668]\n",
       "         createdtimestamp:            [509009676746]\n",
       "         changedtimestamp:            [509248205386]\n",
       "         flags:                       [313]\n",
       "         moduleflags:                 [0]\n",
       "         chunksizebytes:              [0]\n",
       "         ...                          ...\n",
       "         nenbw:                       [nan]\n",
       "         systemtime_converted:        [2.85087778e+10]\n",
       "         createdtimestamp_converted:  [8.48349461e+12]\n",
       "         changedtimestamp_converted:  [8.48747009e+12]\n",
       "         device_serial:               DEV4121\n",
       "         channel_name:                /dev4121/auxins/0/sample.auxin0.avg]]}}]"
      ]
     },
     "execution_count": 59,
     "metadata": {},
     "output_type": "execute_result"
    }
   ],
   "source": [
    "data"
   ]
  },
  {
   "cell_type": "code",
   "execution_count": 60,
   "id": "8d97dfac",
   "metadata": {
    "scrolled": true
   },
   "outputs": [
    {
     "data": {
      "image/png": "[encoded data removed]",
      "text/plain": [
       "<Figure size 640x480 with 1 Axes>"
      ]
     },
     "metadata": {},
     "output_type": "display_data"
    },
    {
     "data": {
      "image/png": "[encoded data removed]",
      "text/plain": [
       "<Figure size 640x480 with 1 Axes>"
      ]
     },
     "metadata": {},
     "output_type": "display_data"
    },
    {
     "data": {
      "image/png": "[encoded data removed]",
      "text/plain": [
       "<Figure size 640x480 with 1 Axes>"
      ]
     },
     "metadata": {},
     "output_type": "display_data"
    }
   ],
   "source": [
    "if data is not None:\n",
    "    for d in data:\n",
    "        # plot_windows(d)\n",
    "        \n",
    "        for j, w in enumerate(d.keys()):\n",
    "            for i, c in enumerate(d[w].keys()):\n",
    "                for k, e in enumerate(d[w][c]):\n",
    "                    for l in e:\n",
    "                        plt.plot(l[\"time\"].values, l.values.T, color=f\"C{j}\", label=(w if (i==0 and k==0) else None))\n",
    "                        plt.scatter(l[\"time\"].values, l.values.T, color=f\"C{j}\", marker=\"x\", alpha=.1)\n",
    "        plt.legend()\n",
    "        plt.show()\n",
    "else:\n",
    "    print(\"RETURNED NONE\")"
   ]
  },
  {
   "cell_type": "code",
   "execution_count": 61,
   "id": "f02727fe",
   "metadata": {},
   "outputs": [
    {
     "name": "stderr",
     "output_type": "stream",
     "text": [
      "ERROR:root:No traceback has been produced, nothing to debug.\n"
     ]
    }
   ],
   "source": [
    "%debug"
   ]
  },
  {
   "cell_type": "markdown",
   "id": "b0b4daa3",
   "metadata": {},
   "source": [
    "And now, let's look at again a different program"
   ]
  },
  {
   "cell_type": "code",
   "execution_count": 62,
   "id": "1ac65d7f",
   "metadata": {},
   "outputs": [],
   "source": [
    "my_lockin.clear_memory()\n",
    "my_lockin.reset_daq_module()"
   ]
  },
  {
   "cell_type": "code",
   "execution_count": 63,
   "id": "fe7ace96",
   "metadata": {
    "scrolled": true
   },
   "outputs": [],
   "source": [
    "# setup.register_program('test', test_program, run_callback=lambda *a, **b: my_lockin.force_trigger(None), update=True)\n",
    "setup.register_program('test2', test_program_single, run_callback=lambda *a, **b: None, update=True)"
   ]
  },
  {
   "cell_type": "code",
   "execution_count": 64,
   "id": "be1c9ade",
   "metadata": {},
   "outputs": [],
   "source": [
    "my_lockin.register_trigger_settings(program_name=\"test2\",\n",
    "                                   trigger_input=f\"demods/0/sample.TrigIn1\", # here TrigInN referese to the printer label N\n",
    "                                   edge=\"rising\",\n",
    "                                   trigger_count=3,\n",
    "                                   level=.5,\n",
    "                                   other_settings={\"holdoff/time\": 1e-3}\n",
    "                                   )"
   ]
  },
  {
   "cell_type": "code",
   "execution_count": 65,
   "id": "58dee40c",
   "metadata": {},
   "outputs": [
    {
     "name": "stderr",
     "output_type": "stream",
     "text": [
      "\\\\janeway\\user ag bluhm\\surrey\\git\\qupulse-mfli\\qupulse_mfli\\mfli.py:523: UserWarning: The channel auxins/0/sample.AuxIn0.avg does not have an interface for enabling it. If needed, this can be done using the web interface.\n",
      "  warnings.warn(\n"
     ]
    }
   ],
   "source": [
    "setup.run_program(\"test2\")"
   ]
  },
  {
   "cell_type": "code",
   "execution_count": 66,
   "id": "dc4dc54f",
   "metadata": {},
   "outputs": [],
   "source": [
    "for _ in range(3*3):\n",
    "    my_lockin.api_session.setDouble(f\"/{my_lockin.serial}/auxouts/0/offset\", 1)\n",
    "    time.sleep(1)\n",
    "    my_lockin.api_session.setDouble(f\"/{my_lockin.serial}/auxouts/0/offset\", 0)\n",
    "    time.sleep(3)"
   ]
  },
  {
   "cell_type": "code",
   "execution_count": 67,
   "id": "d206d097",
   "metadata": {},
   "outputs": [
    {
     "name": "stderr",
     "output_type": "stream",
     "text": [
      "\\\\janeway\\user ag bluhm\\surrey\\git\\qupulse-mfli\\qupulse_mfli\\mfli.py:113: UserWarning: The received data for channel auxins/0/sample.AuxIn0.avg is empty.\n",
      "  warnings.warn(f\"The received data for channel {_cn} is empty.\")\n"
     ]
    },
    {
     "data": {
      "image/png": "[encoded data removed]",
      "text/plain": [
       "<Figure size 640x480 with 1 Axes>"
      ]
     },
     "metadata": {},
     "output_type": "display_data"
    },
    {
     "data": {
      "image/png": "[encoded data removed]",
      "text/plain": [
       "<Figure size 640x480 with 1 Axes>"
      ]
     },
     "metadata": {},
     "output_type": "display_data"
    },
    {
     "data": {
      "image/png": "[encoded data removed]",
      "text/plain": [
       "<Figure size 640x480 with 1 Axes>"
      ]
     },
     "metadata": {},
     "output_type": "display_data"
    }
   ],
   "source": [
    "data = my_lockin.measure_program(return_raw=False)#(wait=False, fail_if_incomplete=False)\n",
    "if data is not None:\n",
    "    for d in data:\n",
    "        for j, w in enumerate(d.keys()):\n",
    "            for i, c in enumerate(d[w].keys()):\n",
    "                for k, e in enumerate(d[w][c]):\n",
    "                    for l in e:\n",
    "                        plt.plot(l[\"time\"].values, l.values.T, color=f\"C{j}\", label=(w if (i==0 and k==0) else None))\n",
    "                        plt.scatter(l[\"time\"].values, l.values.T, color=f\"C{j}\", marker=\"x\", alpha=.1)\n",
    "        plt.legend()\n",
    "        plt.show()\n",
    "else:\n",
    "    print(\"RETURNED NONE\")"
   ]
  },
  {
   "cell_type": "markdown",
   "id": "04a046dc",
   "metadata": {},
   "source": [
    "And now we update the post processing method for the test pulse. The now used method averages each window into one float (for each channel)."
   ]
  },
  {
   "cell_type": "code",
   "execution_count": 68,
   "id": "eb3982ba",
   "metadata": {},
   "outputs": [
    {
     "name": "stderr",
     "output_type": "stream",
     "text": [
      "\\\\janeway\\user ag bluhm\\surrey\\git\\qupulse-mfli\\qupulse_mfli\\mfli.py:523: UserWarning: The channel auxins/0/sample.AuxIn0.avg does not have an interface for enabling it. If needed, this can be done using the web interface.\n",
      "  warnings.warn(\n"
     ]
    }
   ],
   "source": [
    "my_lockin.register_operations(\"test\", postprocessing_average_within_windows)\n",
    "setup.run_program(\"test\")"
   ]
  },
  {
   "cell_type": "code",
   "execution_count": 69,
   "id": "ba3c538f",
   "metadata": {},
   "outputs": [],
   "source": [
    "for _ in range(3*3):\n",
    "    my_lockin.api_session.setDouble(f\"/{my_lockin.serial}/auxouts/0/offset\", 1)\n",
    "    time.sleep(1)\n",
    "    my_lockin.api_session.setDouble(f\"/{my_lockin.serial}/auxouts/0/offset\", 0)\n",
    "    time.sleep(3)"
   ]
  },
  {
   "cell_type": "code",
   "execution_count": 70,
   "id": "0c875430",
   "metadata": {},
   "outputs": [
    {
     "name": "stderr",
     "output_type": "stream",
     "text": [
      "\\\\janeway\\user ag bluhm\\surrey\\git\\qupulse-mfli\\qupulse_mfli\\mfli.py:113: UserWarning: The received data for channel auxins/0/sample.AuxIn0.avg is empty.\n",
      "  warnings.warn(f\"The received data for channel {_cn} is empty.\")\n",
      "\\\\janeway\\user ag bluhm\\surrey\\git\\qupulse-mfli\\qupulse_mfli\\mfli.py:113: UserWarning: The received data for channel auxins/0/sample.AuxIn0.avg is empty.\n",
      "  warnings.warn(f\"The received data for channel {_cn} is empty.\")\n"
     ]
    }
   ],
   "source": [
    "data = my_lockin.measure_program(wait=False, return_raw=False)#(wait=False, fail_if_incomplete=False)"
   ]
  },
  {
   "cell_type": "code",
   "execution_count": 71,
   "id": "26e83327",
   "metadata": {},
   "outputs": [
    {
     "data": {
      "text/plain": [
       "[{'X': {'/dev4121/demods/0/sample.x': [array([4.71528992e-07]),\n",
       "    array([-2.97152004e-07]),\n",
       "    array([1.78815249e-08])]},\n",
       "  'R': {'/dev4121/demods/0/sample.r': [array([5.20885683e-08, 6.86855784e-07]),\n",
       "    array([3.12780536e-07, 3.44728926e-07]),\n",
       "    array([4.07779154e-07, 6.58919205e-07])]},\n",
       "  'A': {}},\n",
       " {'X': {'/dev4121/demods/0/sample.x': [array([-4.77546633e-08]),\n",
       "    array([1.29963404e-07]),\n",
       "    array([-7.02329764e-08])]},\n",
       "  'R': {'/dev4121/demods/0/sample.r': [array([8.92149598e-08, 1.30920697e-07]),\n",
       "    array([5.04768677e-07, 3.39291962e-07]),\n",
       "    array([2.36518027e-07, 5.38504503e-07])]},\n",
       "  'A': {'/dev4121/auxins/0/sample.auxin0.avg': [array([-0.00050123, -0.00054803])]}},\n",
       " {'X': {'/dev4121/demods/0/sample.x': [array([-3.39038861e-07]),\n",
       "    array([3.78125426e-07]),\n",
       "    array([-2.39744061e-07])]},\n",
       "  'R': {'/dev4121/demods/0/sample.r': [array([3.97042473e-07, 1.48085943e-07]),\n",
       "    array([6.33777026e-07, 2.90998235e-07]),\n",
       "    array([1.27088007e-07, 3.04374249e-07])]},\n",
       "  'A': {}}]"
      ]
     },
     "execution_count": 71,
     "metadata": {},
     "output_type": "execute_result"
    }
   ],
   "source": [
    "data"
   ]
  },
  {
   "cell_type": "code",
   "execution_count": null,
   "id": "bef6b06c",
   "metadata": {},
   "outputs": [],
   "source": []
  },
  {
   "cell_type": "code",
   "execution_count": null,
   "id": "24eb8203",
   "metadata": {},
   "outputs": [],
   "source": []
  },
  {
   "cell_type": "code",
   "execution_count": null,
   "id": "12b8f359",
   "metadata": {},
   "outputs": [],
   "source": []
  },
  {
   "cell_type": "code",
   "execution_count": null,
   "id": "beea7431",
   "metadata": {},
   "outputs": [],
   "source": []
  }
 ],
 "metadata": {
  "kernelspec": {
   "display_name": "Python 3 (ipykernel)",
   "language": "python",
   "name": "python3"
  },
  "language_info": {
   "codemirror_mode": {
    "name": "ipython",
    "version": 3
   },
   "file_extension": ".py",
   "mimetype": "text/x-python",
   "name": "python",
   "nbconvert_exporter": "python",
   "pygments_lexer": "ipython3",
   "version": "3.10.0"
  }
 },
 "nbformat": 4,
 "nbformat_minor": 5
}
